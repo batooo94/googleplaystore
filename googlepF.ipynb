{
 "cells": [
  {
   "cell_type": "markdown",
   "id": "cf23dd80",
   "metadata": {},
   "source": [
    "# Google Play"
   ]
  },
  {
   "cell_type": "markdown",
   "id": "7d5f383e",
   "metadata": {},
   "source": [
    "##### The problem"
   ]
  },
  {
   "cell_type": "markdown",
   "id": "9f5ca563",
   "metadata": {},
   "source": [
    "Development is racing with the new science to provide what is modern in the world of technology,\n",
    "and the rates of competition between companies are increasing,\n",
    "such as companies that create applications they may need special criteria \n",
    "to know the success of the application or the failure of the application, \n",
    "such as knowing the best type of applications, the right price and size."
   ]
  },
  {
   "cell_type": "markdown",
   "id": "8a13b1be",
   "metadata": {},
   "source": [
    "##### questions"
   ]
  },
  {
   "cell_type": "markdown",
   "id": "99bf3edb",
   "metadata": {},
   "source": [
    "What is the main reason for the success of the application?\n",
    "\n",
    "What is the most downloaded type of application?\n",
    "\n",
    "What is the profit rate forecast for applications?"
   ]
  },
  {
   "cell_type": "markdown",
   "id": "28d97cee",
   "metadata": {},
   "source": [
    "##### The Solution"
   ]
  },
  {
   "cell_type": "markdown",
   "id": "6b6f011f",
   "metadata": {},
   "source": [
    "We will prepare the data and use machine language to predict the profits of applications \n",
    "and the main reason for its success and classify the most downloaded applications"
   ]
  },
  {
   "cell_type": "markdown",
   "id": "fc54f1ca",
   "metadata": {},
   "source": [
    "# Step 0: Importing the required libraries for EDA"
   ]
  },
  {
   "cell_type": "code",
   "execution_count": 1,
   "id": "1bcff34b",
   "metadata": {},
   "outputs": [],
   "source": [
    "import pandas as pd\n",
    "import numpy as np\n",
    "from sklearn import datasets\n",
    "import seaborn as sns \n",
    "#visualisation\n",
    "import matplotlib.pyplot as plt  \n",
    "#visualisation\n",
    "%matplotlib inline     \n",
    "sns.set(color_codes=True)"
   ]
  },
  {
   "cell_type": "markdown",
   "id": "3d281715",
   "metadata": {},
   "source": [
    "# Step 1: Loading the data into the data frame"
   ]
  },
  {
   "cell_type": "code",
   "execution_count": 2,
   "id": "2a788944",
   "metadata": {},
   "outputs": [
    {
     "data": {
      "text/html": [
       "<div>\n",
       "<style scoped>\n",
       "    .dataframe tbody tr th:only-of-type {\n",
       "        vertical-align: middle;\n",
       "    }\n",
       "\n",
       "    .dataframe tbody tr th {\n",
       "        vertical-align: top;\n",
       "    }\n",
       "\n",
       "    .dataframe thead th {\n",
       "        text-align: right;\n",
       "    }\n",
       "</style>\n",
       "<table border=\"1\" class=\"dataframe\">\n",
       "  <thead>\n",
       "    <tr style=\"text-align: right;\">\n",
       "      <th></th>\n",
       "      <th>App</th>\n",
       "      <th>Category</th>\n",
       "      <th>Rating</th>\n",
       "      <th>Reviews</th>\n",
       "      <th>Size</th>\n",
       "      <th>Installs</th>\n",
       "      <th>Type</th>\n",
       "      <th>Price</th>\n",
       "      <th>ContentRating</th>\n",
       "      <th>Genres</th>\n",
       "      <th>LastUpdated</th>\n",
       "      <th>AndroidVer</th>\n",
       "    </tr>\n",
       "  </thead>\n",
       "  <tbody>\n",
       "    <tr>\n",
       "      <th>0</th>\n",
       "      <td>Photo Editor &amp; Candy Camera &amp; Grid &amp; ScrapBook</td>\n",
       "      <td>ART_AND_DESIGN</td>\n",
       "      <td>4.0</td>\n",
       "      <td>159</td>\n",
       "      <td>19</td>\n",
       "      <td>10000</td>\n",
       "      <td>Free</td>\n",
       "      <td>0</td>\n",
       "      <td>Everyone</td>\n",
       "      <td>Art &amp; Design</td>\n",
       "      <td>2018</td>\n",
       "      <td>4.0.3</td>\n",
       "    </tr>\n",
       "    <tr>\n",
       "      <th>1</th>\n",
       "      <td>Coloring book moana</td>\n",
       "      <td>ART_AND_DESIGN</td>\n",
       "      <td>4.0</td>\n",
       "      <td>967</td>\n",
       "      <td>14</td>\n",
       "      <td>500000</td>\n",
       "      <td>Free</td>\n",
       "      <td>0</td>\n",
       "      <td>Everyone</td>\n",
       "      <td>Art &amp; Design;Pretend Play</td>\n",
       "      <td>2018</td>\n",
       "      <td>4.0.3</td>\n",
       "    </tr>\n",
       "    <tr>\n",
       "      <th>2</th>\n",
       "      <td>U Launcher Lite â€“ FREE Live Cool Themes, Hid...</td>\n",
       "      <td>ART_AND_DESIGN</td>\n",
       "      <td>5.0</td>\n",
       "      <td>87510</td>\n",
       "      <td>44780</td>\n",
       "      <td>5000000</td>\n",
       "      <td>Free</td>\n",
       "      <td>0</td>\n",
       "      <td>Everyone</td>\n",
       "      <td>Art &amp; Design</td>\n",
       "      <td>2018</td>\n",
       "      <td>4.0.3</td>\n",
       "    </tr>\n",
       "    <tr>\n",
       "      <th>3</th>\n",
       "      <td>Sketch - Draw &amp; Paint</td>\n",
       "      <td>ART_AND_DESIGN</td>\n",
       "      <td>5.0</td>\n",
       "      <td>215644</td>\n",
       "      <td>25</td>\n",
       "      <td>50000000</td>\n",
       "      <td>Free</td>\n",
       "      <td>0</td>\n",
       "      <td>Teen</td>\n",
       "      <td>Art &amp; Design</td>\n",
       "      <td>2018</td>\n",
       "      <td>44٬653٫00</td>\n",
       "    </tr>\n",
       "    <tr>\n",
       "      <th>4</th>\n",
       "      <td>Pixel Draw - Number Art Coloring Book</td>\n",
       "      <td>ART_AND_DESIGN</td>\n",
       "      <td>4.0</td>\n",
       "      <td>967</td>\n",
       "      <td>44600</td>\n",
       "      <td>100000</td>\n",
       "      <td>Free</td>\n",
       "      <td>0</td>\n",
       "      <td>Everyone</td>\n",
       "      <td>Art &amp; Design;Creativity</td>\n",
       "      <td>2018</td>\n",
       "      <td>44٬655٫00</td>\n",
       "    </tr>\n",
       "  </tbody>\n",
       "</table>\n",
       "</div>"
      ],
      "text/plain": [
       "                                                 App        Category  Rating  \\\n",
       "0     Photo Editor & Candy Camera & Grid & ScrapBook  ART_AND_DESIGN     4.0   \n",
       "1                                Coloring book moana  ART_AND_DESIGN     4.0   \n",
       "2  U Launcher Lite â€“ FREE Live Cool Themes, Hid...  ART_AND_DESIGN     5.0   \n",
       "3                              Sketch - Draw & Paint  ART_AND_DESIGN     5.0   \n",
       "4              Pixel Draw - Number Art Coloring Book  ART_AND_DESIGN     4.0   \n",
       "\n",
       "  Reviews   Size  Installs  Type Price ContentRating  \\\n",
       "0     159     19     10000  Free     0      Everyone   \n",
       "1     967     14    500000  Free     0      Everyone   \n",
       "2   87510  44780   5000000  Free     0      Everyone   \n",
       "3  215644     25  50000000  Free     0          Teen   \n",
       "4     967  44600    100000  Free     0      Everyone   \n",
       "\n",
       "                      Genres LastUpdated  AndroidVer  \n",
       "0               Art & Design        2018       4.0.3  \n",
       "1  Art & Design;Pretend Play        2018       4.0.3  \n",
       "2               Art & Design        2018       4.0.3  \n",
       "3               Art & Design        2018  44٬653٫00   \n",
       "4    Art & Design;Creativity        2018  44٬655٫00   "
      ]
     },
     "execution_count": 2,
     "metadata": {},
     "output_type": "execute_result"
    }
   ],
   "source": [
    "#Read and display data\n",
    "df = pd.read_csv(\"googlep.csv\")\n",
    "df.head(5) \n"
   ]
  },
  {
   "cell_type": "markdown",
   "id": "9fde9bb2",
   "metadata": {},
   "source": [
    "# EDA"
   ]
  },
  {
   "cell_type": "markdown",
   "id": "7c65daad",
   "metadata": {},
   "source": [
    "# Step 2:Claen Data"
   ]
  },
  {
   "cell_type": "markdown",
   "id": "993487bc",
   "metadata": {},
   "source": [
    "### Checking the types of data"
   ]
  },
  {
   "cell_type": "code",
   "execution_count": 3,
   "id": "481dd3e1",
   "metadata": {},
   "outputs": [
    {
     "data": {
      "text/plain": [
       "App               object\n",
       "Category          object\n",
       "Rating           float64\n",
       "Reviews           object\n",
       "Size              object\n",
       "Installs          object\n",
       "Type              object\n",
       "Price             object\n",
       "ContentRating     object\n",
       "Genres            object\n",
       "LastUpdated       object\n",
       "AndroidVer        object\n",
       "dtype: object"
      ]
     },
     "execution_count": 3,
     "metadata": {},
     "output_type": "execute_result"
    }
   ],
   "source": [
    "df.dtypes"
   ]
  },
  {
   "cell_type": "markdown",
   "id": "6740690f",
   "metadata": {},
   "source": [
    "### Dropping irrelevant columns"
   ]
  },
  {
   "cell_type": "code",
   "execution_count": 4,
   "id": "5e8394c7",
   "metadata": {},
   "outputs": [
    {
     "data": {
      "text/html": [
       "<div>\n",
       "<style scoped>\n",
       "    .dataframe tbody tr th:only-of-type {\n",
       "        vertical-align: middle;\n",
       "    }\n",
       "\n",
       "    .dataframe tbody tr th {\n",
       "        vertical-align: top;\n",
       "    }\n",
       "\n",
       "    .dataframe thead th {\n",
       "        text-align: right;\n",
       "    }\n",
       "</style>\n",
       "<table border=\"1\" class=\"dataframe\">\n",
       "  <thead>\n",
       "    <tr style=\"text-align: right;\">\n",
       "      <th></th>\n",
       "      <th>Category</th>\n",
       "      <th>Rating</th>\n",
       "      <th>Reviews</th>\n",
       "      <th>Installs</th>\n",
       "      <th>Type</th>\n",
       "      <th>Price</th>\n",
       "      <th>ContentRating</th>\n",
       "      <th>Genres</th>\n",
       "      <th>LastUpdated</th>\n",
       "    </tr>\n",
       "  </thead>\n",
       "  <tbody>\n",
       "    <tr>\n",
       "      <th>0</th>\n",
       "      <td>ART_AND_DESIGN</td>\n",
       "      <td>4.0</td>\n",
       "      <td>159</td>\n",
       "      <td>10000</td>\n",
       "      <td>Free</td>\n",
       "      <td>0</td>\n",
       "      <td>Everyone</td>\n",
       "      <td>Art &amp; Design</td>\n",
       "      <td>2018</td>\n",
       "    </tr>\n",
       "    <tr>\n",
       "      <th>1</th>\n",
       "      <td>ART_AND_DESIGN</td>\n",
       "      <td>4.0</td>\n",
       "      <td>967</td>\n",
       "      <td>500000</td>\n",
       "      <td>Free</td>\n",
       "      <td>0</td>\n",
       "      <td>Everyone</td>\n",
       "      <td>Art &amp; Design;Pretend Play</td>\n",
       "      <td>2018</td>\n",
       "    </tr>\n",
       "    <tr>\n",
       "      <th>2</th>\n",
       "      <td>ART_AND_DESIGN</td>\n",
       "      <td>5.0</td>\n",
       "      <td>87510</td>\n",
       "      <td>5000000</td>\n",
       "      <td>Free</td>\n",
       "      <td>0</td>\n",
       "      <td>Everyone</td>\n",
       "      <td>Art &amp; Design</td>\n",
       "      <td>2018</td>\n",
       "    </tr>\n",
       "    <tr>\n",
       "      <th>3</th>\n",
       "      <td>ART_AND_DESIGN</td>\n",
       "      <td>5.0</td>\n",
       "      <td>215644</td>\n",
       "      <td>50000000</td>\n",
       "      <td>Free</td>\n",
       "      <td>0</td>\n",
       "      <td>Teen</td>\n",
       "      <td>Art &amp; Design</td>\n",
       "      <td>2018</td>\n",
       "    </tr>\n",
       "    <tr>\n",
       "      <th>4</th>\n",
       "      <td>ART_AND_DESIGN</td>\n",
       "      <td>4.0</td>\n",
       "      <td>967</td>\n",
       "      <td>100000</td>\n",
       "      <td>Free</td>\n",
       "      <td>0</td>\n",
       "      <td>Everyone</td>\n",
       "      <td>Art &amp; Design;Creativity</td>\n",
       "      <td>2018</td>\n",
       "    </tr>\n",
       "  </tbody>\n",
       "</table>\n",
       "</div>"
      ],
      "text/plain": [
       "         Category  Rating Reviews  Installs  Type Price ContentRating  \\\n",
       "0  ART_AND_DESIGN     4.0     159     10000  Free     0      Everyone   \n",
       "1  ART_AND_DESIGN     4.0     967    500000  Free     0      Everyone   \n",
       "2  ART_AND_DESIGN     5.0   87510   5000000  Free     0      Everyone   \n",
       "3  ART_AND_DESIGN     5.0  215644  50000000  Free     0          Teen   \n",
       "4  ART_AND_DESIGN     4.0     967    100000  Free     0      Everyone   \n",
       "\n",
       "                      Genres LastUpdated  \n",
       "0               Art & Design        2018  \n",
       "1  Art & Design;Pretend Play        2018  \n",
       "2               Art & Design        2018  \n",
       "3               Art & Design        2018  \n",
       "4    Art & Design;Creativity        2018  "
      ]
     },
     "execution_count": 4,
     "metadata": {},
     "output_type": "execute_result"
    }
   ],
   "source": [
    "df = df.drop(['Size','AndroidVer','App'], axis=1)\n",
    "df.head(5)"
   ]
  },
  {
   "cell_type": "markdown",
   "id": "d2a762eb",
   "metadata": {},
   "source": [
    " ### Renaming the columns\n"
   ]
  },
  {
   "cell_type": "markdown",
   "id": "feae1646",
   "metadata": {},
   "source": [
    "We changed the name of column to clarify its meaning"
   ]
  },
  {
   "cell_type": "code",
   "execution_count": 5,
   "id": "ed1f100a",
   "metadata": {},
   "outputs": [],
   "source": [
    "df.columns =['Category','Rating','Reviews','Installs','Type','Price','ContentRating','Genres','LastUpdated']"
   ]
  },
  {
   "cell_type": "code",
   "execution_count": 6,
   "id": "f3640fd3",
   "metadata": {},
   "outputs": [],
   "source": [
    "df=df.rename(columns={'LastUpdated':\"Annualupdate\"})"
   ]
  },
  {
   "cell_type": "code",
   "execution_count": 7,
   "id": "1ea9f2dc",
   "metadata": {},
   "outputs": [
    {
     "data": {
      "text/html": [
       "<div>\n",
       "<style scoped>\n",
       "    .dataframe tbody tr th:only-of-type {\n",
       "        vertical-align: middle;\n",
       "    }\n",
       "\n",
       "    .dataframe tbody tr th {\n",
       "        vertical-align: top;\n",
       "    }\n",
       "\n",
       "    .dataframe thead th {\n",
       "        text-align: right;\n",
       "    }\n",
       "</style>\n",
       "<table border=\"1\" class=\"dataframe\">\n",
       "  <thead>\n",
       "    <tr style=\"text-align: right;\">\n",
       "      <th></th>\n",
       "      <th>Category</th>\n",
       "      <th>Rating</th>\n",
       "      <th>Reviews</th>\n",
       "      <th>Installs</th>\n",
       "      <th>Type</th>\n",
       "      <th>Price</th>\n",
       "      <th>ContentRating</th>\n",
       "      <th>Genres</th>\n",
       "      <th>Annualupdate</th>\n",
       "    </tr>\n",
       "  </thead>\n",
       "  <tbody>\n",
       "    <tr>\n",
       "      <th>0</th>\n",
       "      <td>ART_AND_DESIGN</td>\n",
       "      <td>4.0</td>\n",
       "      <td>159</td>\n",
       "      <td>10000</td>\n",
       "      <td>Free</td>\n",
       "      <td>0</td>\n",
       "      <td>Everyone</td>\n",
       "      <td>Art &amp; Design</td>\n",
       "      <td>2018</td>\n",
       "    </tr>\n",
       "    <tr>\n",
       "      <th>1</th>\n",
       "      <td>ART_AND_DESIGN</td>\n",
       "      <td>4.0</td>\n",
       "      <td>967</td>\n",
       "      <td>500000</td>\n",
       "      <td>Free</td>\n",
       "      <td>0</td>\n",
       "      <td>Everyone</td>\n",
       "      <td>Art &amp; Design;Pretend Play</td>\n",
       "      <td>2018</td>\n",
       "    </tr>\n",
       "    <tr>\n",
       "      <th>2</th>\n",
       "      <td>ART_AND_DESIGN</td>\n",
       "      <td>5.0</td>\n",
       "      <td>87510</td>\n",
       "      <td>5000000</td>\n",
       "      <td>Free</td>\n",
       "      <td>0</td>\n",
       "      <td>Everyone</td>\n",
       "      <td>Art &amp; Design</td>\n",
       "      <td>2018</td>\n",
       "    </tr>\n",
       "    <tr>\n",
       "      <th>3</th>\n",
       "      <td>ART_AND_DESIGN</td>\n",
       "      <td>5.0</td>\n",
       "      <td>215644</td>\n",
       "      <td>50000000</td>\n",
       "      <td>Free</td>\n",
       "      <td>0</td>\n",
       "      <td>Teen</td>\n",
       "      <td>Art &amp; Design</td>\n",
       "      <td>2018</td>\n",
       "    </tr>\n",
       "    <tr>\n",
       "      <th>4</th>\n",
       "      <td>ART_AND_DESIGN</td>\n",
       "      <td>4.0</td>\n",
       "      <td>967</td>\n",
       "      <td>100000</td>\n",
       "      <td>Free</td>\n",
       "      <td>0</td>\n",
       "      <td>Everyone</td>\n",
       "      <td>Art &amp; Design;Creativity</td>\n",
       "      <td>2018</td>\n",
       "    </tr>\n",
       "  </tbody>\n",
       "</table>\n",
       "</div>"
      ],
      "text/plain": [
       "         Category  Rating Reviews  Installs  Type Price ContentRating  \\\n",
       "0  ART_AND_DESIGN     4.0     159     10000  Free     0      Everyone   \n",
       "1  ART_AND_DESIGN     4.0     967    500000  Free     0      Everyone   \n",
       "2  ART_AND_DESIGN     5.0   87510   5000000  Free     0      Everyone   \n",
       "3  ART_AND_DESIGN     5.0  215644  50000000  Free     0          Teen   \n",
       "4  ART_AND_DESIGN     4.0     967    100000  Free     0      Everyone   \n",
       "\n",
       "                      Genres Annualupdate  \n",
       "0               Art & Design         2018  \n",
       "1  Art & Design;Pretend Play         2018  \n",
       "2               Art & Design         2018  \n",
       "3               Art & Design         2018  \n",
       "4    Art & Design;Creativity         2018  "
      ]
     },
     "execution_count": 7,
     "metadata": {},
     "output_type": "execute_result"
    }
   ],
   "source": [
    "df.head()"
   ]
  },
  {
   "cell_type": "markdown",
   "id": "81432134",
   "metadata": {},
   "source": [
    "### Dropping the duplicate rows\n"
   ]
  },
  {
   "cell_type": "code",
   "execution_count": 8,
   "id": "45c05a78",
   "metadata": {},
   "outputs": [
    {
     "data": {
      "text/plain": [
       "(10841, 9)"
      ]
     },
     "execution_count": 8,
     "metadata": {},
     "output_type": "execute_result"
    }
   ],
   "source": [
    "df.shape"
   ]
  },
  {
   "cell_type": "code",
   "execution_count": 9,
   "id": "830118d0",
   "metadata": {},
   "outputs": [
    {
     "name": "stdout",
     "output_type": "stream",
     "text": [
      "number of duplicate rows:  (926, 9)\n"
     ]
    }
   ],
   "source": [
    "duplicate_rows_df = df[df.duplicated()]\n",
    "print(\"number of duplicate rows: \", duplicate_rows_df.shape)"
   ]
  },
  {
   "cell_type": "code",
   "execution_count": 10,
   "id": "3bb80b18",
   "metadata": {},
   "outputs": [
    {
     "data": {
      "text/plain": [
       "Category         10841\n",
       "Rating            9367\n",
       "Reviews          10841\n",
       "Installs         10841\n",
       "Type             10840\n",
       "Price            10841\n",
       "ContentRating    10840\n",
       "Genres           10841\n",
       "Annualupdate     10841\n",
       "dtype: int64"
      ]
     },
     "execution_count": 10,
     "metadata": {},
     "output_type": "execute_result"
    }
   ],
   "source": [
    "#Number of rows before removing duplicate values\n",
    "df.count() "
   ]
  },
  {
   "cell_type": "code",
   "execution_count": 11,
   "id": "6e77df9f",
   "metadata": {},
   "outputs": [],
   "source": [
    "df = df.drop_duplicates()"
   ]
  },
  {
   "cell_type": "code",
   "execution_count": 12,
   "id": "7fb63824",
   "metadata": {
    "scrolled": true
   },
   "outputs": [
    {
     "data": {
      "text/plain": [
       "Category         9915\n",
       "Rating           8825\n",
       "Reviews          9915\n",
       "Installs         9915\n",
       "Type             9914\n",
       "Price            9915\n",
       "ContentRating    9914\n",
       "Genres           9915\n",
       "Annualupdate     9915\n",
       "dtype: int64"
      ]
     },
     "execution_count": 12,
     "metadata": {},
     "output_type": "execute_result"
    }
   ],
   "source": [
    "#Number of rows after removing duplicate values\n",
    "df.count()"
   ]
  },
  {
   "cell_type": "markdown",
   "id": "674f70ed",
   "metadata": {},
   "source": [
    "### Dropping the missing or null values."
   ]
  },
  {
   "cell_type": "code",
   "execution_count": 13,
   "id": "4b01bdb0",
   "metadata": {},
   "outputs": [
    {
     "name": "stdout",
     "output_type": "stream",
     "text": [
      "Category            0\n",
      "Rating           1090\n",
      "Reviews             0\n",
      "Installs            0\n",
      "Type                1\n",
      "Price               0\n",
      "ContentRating       1\n",
      "Genres              0\n",
      "Annualupdate        0\n",
      "dtype: int64\n"
     ]
    }
   ],
   "source": [
    "print(df.isnull().sum()) "
   ]
  },
  {
   "cell_type": "code",
   "execution_count": 14,
   "id": "3ee1bfb5",
   "metadata": {},
   "outputs": [
    {
     "data": {
      "text/plain": [
       "Category         8824\n",
       "Rating           8824\n",
       "Reviews          8824\n",
       "Installs         8824\n",
       "Type             8824\n",
       "Price            8824\n",
       "ContentRating    8824\n",
       "Genres           8824\n",
       "Annualupdate     8824\n",
       "dtype: int64"
      ]
     },
     "execution_count": 14,
     "metadata": {},
     "output_type": "execute_result"
    }
   ],
   "source": [
    "#The number of rows after removing the Null values etc.\n",
    "df = df.dropna()    \n",
    "df.count()"
   ]
  },
  {
   "cell_type": "code",
   "execution_count": 15,
   "id": "fd0a5611",
   "metadata": {},
   "outputs": [
    {
     "name": "stdout",
     "output_type": "stream",
     "text": [
      "Category         0\n",
      "Rating           0\n",
      "Reviews          0\n",
      "Installs         0\n",
      "Type             0\n",
      "Price            0\n",
      "ContentRating    0\n",
      "Genres           0\n",
      "Annualupdate     0\n",
      "dtype: int64\n"
     ]
    }
   ],
   "source": [
    "print(df.isnull().sum()) "
   ]
  },
  {
   "cell_type": "code",
   "execution_count": 16,
   "id": "cb8a6cf8",
   "metadata": {},
   "outputs": [
    {
     "data": {
      "text/html": [
       "<div>\n",
       "<style scoped>\n",
       "    .dataframe tbody tr th:only-of-type {\n",
       "        vertical-align: middle;\n",
       "    }\n",
       "\n",
       "    .dataframe tbody tr th {\n",
       "        vertical-align: top;\n",
       "    }\n",
       "\n",
       "    .dataframe thead th {\n",
       "        text-align: right;\n",
       "    }\n",
       "</style>\n",
       "<table border=\"1\" class=\"dataframe\">\n",
       "  <thead>\n",
       "    <tr style=\"text-align: right;\">\n",
       "      <th></th>\n",
       "      <th>Category</th>\n",
       "      <th>Rating</th>\n",
       "      <th>Reviews</th>\n",
       "      <th>Installs</th>\n",
       "      <th>Type</th>\n",
       "      <th>Price</th>\n",
       "      <th>ContentRating</th>\n",
       "      <th>Genres</th>\n",
       "      <th>Annualupdate</th>\n",
       "    </tr>\n",
       "  </thead>\n",
       "  <tbody>\n",
       "    <tr>\n",
       "      <th>0</th>\n",
       "      <td>False</td>\n",
       "      <td>False</td>\n",
       "      <td>False</td>\n",
       "      <td>False</td>\n",
       "      <td>False</td>\n",
       "      <td>False</td>\n",
       "      <td>False</td>\n",
       "      <td>False</td>\n",
       "      <td>False</td>\n",
       "    </tr>\n",
       "    <tr>\n",
       "      <th>1</th>\n",
       "      <td>False</td>\n",
       "      <td>False</td>\n",
       "      <td>False</td>\n",
       "      <td>False</td>\n",
       "      <td>False</td>\n",
       "      <td>False</td>\n",
       "      <td>False</td>\n",
       "      <td>False</td>\n",
       "      <td>False</td>\n",
       "    </tr>\n",
       "    <tr>\n",
       "      <th>2</th>\n",
       "      <td>False</td>\n",
       "      <td>False</td>\n",
       "      <td>False</td>\n",
       "      <td>False</td>\n",
       "      <td>False</td>\n",
       "      <td>False</td>\n",
       "      <td>False</td>\n",
       "      <td>False</td>\n",
       "      <td>False</td>\n",
       "    </tr>\n",
       "    <tr>\n",
       "      <th>3</th>\n",
       "      <td>False</td>\n",
       "      <td>False</td>\n",
       "      <td>False</td>\n",
       "      <td>False</td>\n",
       "      <td>False</td>\n",
       "      <td>False</td>\n",
       "      <td>False</td>\n",
       "      <td>False</td>\n",
       "      <td>False</td>\n",
       "    </tr>\n",
       "    <tr>\n",
       "      <th>4</th>\n",
       "      <td>False</td>\n",
       "      <td>False</td>\n",
       "      <td>False</td>\n",
       "      <td>False</td>\n",
       "      <td>False</td>\n",
       "      <td>False</td>\n",
       "      <td>False</td>\n",
       "      <td>False</td>\n",
       "      <td>False</td>\n",
       "    </tr>\n",
       "    <tr>\n",
       "      <th>...</th>\n",
       "      <td>...</td>\n",
       "      <td>...</td>\n",
       "      <td>...</td>\n",
       "      <td>...</td>\n",
       "      <td>...</td>\n",
       "      <td>...</td>\n",
       "      <td>...</td>\n",
       "      <td>...</td>\n",
       "      <td>...</td>\n",
       "    </tr>\n",
       "    <tr>\n",
       "      <th>10833</th>\n",
       "      <td>False</td>\n",
       "      <td>False</td>\n",
       "      <td>False</td>\n",
       "      <td>False</td>\n",
       "      <td>False</td>\n",
       "      <td>False</td>\n",
       "      <td>False</td>\n",
       "      <td>False</td>\n",
       "      <td>False</td>\n",
       "    </tr>\n",
       "    <tr>\n",
       "      <th>10834</th>\n",
       "      <td>False</td>\n",
       "      <td>False</td>\n",
       "      <td>False</td>\n",
       "      <td>False</td>\n",
       "      <td>False</td>\n",
       "      <td>False</td>\n",
       "      <td>False</td>\n",
       "      <td>False</td>\n",
       "      <td>False</td>\n",
       "    </tr>\n",
       "    <tr>\n",
       "      <th>10836</th>\n",
       "      <td>False</td>\n",
       "      <td>False</td>\n",
       "      <td>False</td>\n",
       "      <td>False</td>\n",
       "      <td>False</td>\n",
       "      <td>False</td>\n",
       "      <td>False</td>\n",
       "      <td>False</td>\n",
       "      <td>False</td>\n",
       "    </tr>\n",
       "    <tr>\n",
       "      <th>10839</th>\n",
       "      <td>False</td>\n",
       "      <td>False</td>\n",
       "      <td>False</td>\n",
       "      <td>False</td>\n",
       "      <td>False</td>\n",
       "      <td>False</td>\n",
       "      <td>False</td>\n",
       "      <td>False</td>\n",
       "      <td>False</td>\n",
       "    </tr>\n",
       "    <tr>\n",
       "      <th>10840</th>\n",
       "      <td>False</td>\n",
       "      <td>False</td>\n",
       "      <td>False</td>\n",
       "      <td>False</td>\n",
       "      <td>False</td>\n",
       "      <td>False</td>\n",
       "      <td>False</td>\n",
       "      <td>False</td>\n",
       "      <td>False</td>\n",
       "    </tr>\n",
       "  </tbody>\n",
       "</table>\n",
       "<p>8824 rows × 9 columns</p>\n",
       "</div>"
      ],
      "text/plain": [
       "       Category  Rating  Reviews  Installs   Type  Price  ContentRating  \\\n",
       "0         False   False    False     False  False  False          False   \n",
       "1         False   False    False     False  False  False          False   \n",
       "2         False   False    False     False  False  False          False   \n",
       "3         False   False    False     False  False  False          False   \n",
       "4         False   False    False     False  False  False          False   \n",
       "...         ...     ...      ...       ...    ...    ...            ...   \n",
       "10833     False   False    False     False  False  False          False   \n",
       "10834     False   False    False     False  False  False          False   \n",
       "10836     False   False    False     False  False  False          False   \n",
       "10839     False   False    False     False  False  False          False   \n",
       "10840     False   False    False     False  False  False          False   \n",
       "\n",
       "       Genres  Annualupdate  \n",
       "0       False         False  \n",
       "1       False         False  \n",
       "2       False         False  \n",
       "3       False         False  \n",
       "4       False         False  \n",
       "...       ...           ...  \n",
       "10833   False         False  \n",
       "10834   False         False  \n",
       "10836   False         False  \n",
       "10839   False         False  \n",
       "10840   False         False  \n",
       "\n",
       "[8824 rows x 9 columns]"
      ]
     },
     "execution_count": 16,
     "metadata": {},
     "output_type": "execute_result"
    }
   ],
   "source": [
    "df.isna()"
   ]
  },
  {
   "cell_type": "markdown",
   "id": "cabdc177",
   "metadata": {},
   "source": [
    "### Convert from object to numeric"
   ]
  },
  {
   "cell_type": "code",
   "execution_count": 17,
   "id": "8c39f95b",
   "metadata": {},
   "outputs": [],
   "source": [
    "df.Price = pd.to_numeric(df.Price,errors='coerce')\n",
    "df.Reviews = pd.to_numeric(df.Reviews,errors='coerce')\n",
    "df.Rating = pd.to_numeric(df.Rating,errors='coerce')\n",
    "df.Installs = pd.to_numeric(df.Installs,errors='coerce')\n",
    "df.Annualupdate = pd.to_numeric(df.Annualupdate,errors='coerce')"
   ]
  },
  {
   "cell_type": "code",
   "execution_count": 18,
   "id": "35a55791",
   "metadata": {},
   "outputs": [
    {
     "name": "stdout",
     "output_type": "stream",
     "text": [
      "<class 'pandas.core.frame.DataFrame'>\n",
      "Int64Index: 8824 entries, 0 to 10840\n",
      "Data columns (total 9 columns):\n",
      " #   Column         Non-Null Count  Dtype  \n",
      "---  ------         --------------  -----  \n",
      " 0   Category       8824 non-null   object \n",
      " 1   Rating         8824 non-null   float64\n",
      " 2   Reviews        8824 non-null   int64  \n",
      " 3   Installs       8824 non-null   int64  \n",
      " 4   Type           8824 non-null   object \n",
      " 5   Price          8824 non-null   int64  \n",
      " 6   ContentRating  8824 non-null   object \n",
      " 7   Genres         8824 non-null   object \n",
      " 8   Annualupdate   8824 non-null   int64  \n",
      "dtypes: float64(1), int64(4), object(4)\n",
      "memory usage: 689.4+ KB\n"
     ]
    }
   ],
   "source": [
    "# Verify the data type\n",
    "df.info()"
   ]
  },
  {
   "cell_type": "code",
   "execution_count": 19,
   "id": "d97cf30b",
   "metadata": {},
   "outputs": [
    {
     "data": {
      "text/plain": [
       "<bound method DataFrame.value_counts of                   Category  Rating  Reviews  Installs  Type  Price  \\\n",
       "0           ART_AND_DESIGN     4.0      159     10000  Free      0   \n",
       "1           ART_AND_DESIGN     4.0      967    500000  Free      0   \n",
       "2           ART_AND_DESIGN     5.0    87510   5000000  Free      0   \n",
       "3           ART_AND_DESIGN     5.0   215644  50000000  Free      0   \n",
       "4           ART_AND_DESIGN     4.0      967    100000  Free      0   \n",
       "...                    ...     ...      ...       ...   ...    ...   \n",
       "10833  BOOKS_AND_REFERENCE     5.0       44      1000  Free      0   \n",
       "10834               FAMILY     4.0        7       500  Free      0   \n",
       "10836               FAMILY     5.0       38      5000  Free      0   \n",
       "10839  BOOKS_AND_REFERENCE     5.0      114      1000  Free      0   \n",
       "10840            LIFESTYLE     5.0   398307  10000000  Free      0   \n",
       "\n",
       "      ContentRating                     Genres  Annualupdate  \n",
       "0          Everyone               Art & Design          2018  \n",
       "1          Everyone  Art & Design;Pretend Play          2018  \n",
       "2          Everyone               Art & Design          2018  \n",
       "3              Teen               Art & Design          2018  \n",
       "4          Everyone    Art & Design;Creativity          2018  \n",
       "...             ...                        ...           ...  \n",
       "10833      Everyone          Books & Reference          2014  \n",
       "10834      Everyone                  Education          2017  \n",
       "10836      Everyone                  Education          2017  \n",
       "10839        Mature          Books & Reference          2015  \n",
       "10840      Everyone                  Lifestyle          2018  \n",
       "\n",
       "[8824 rows x 9 columns]>"
      ]
     },
     "execution_count": 19,
     "metadata": {},
     "output_type": "execute_result"
    }
   ],
   "source": [
    "df.value_counts"
   ]
  },
  {
   "cell_type": "markdown",
   "id": "a3d36f6b",
   "metadata": {},
   "source": [
    "## Add column"
   ]
  },
  {
   "cell_type": "code",
   "execution_count": 20,
   "id": "bca21cf5",
   "metadata": {},
   "outputs": [],
   "source": [
    "df['profits']= df['Installs']*df['Price']"
   ]
  },
  {
   "cell_type": "code",
   "execution_count": 21,
   "id": "8fbafd70",
   "metadata": {},
   "outputs": [
    {
     "data": {
      "text/plain": [
       "Index(['Category', 'Rating', 'Reviews', 'Installs', 'Type', 'Price',\n",
       "       'ContentRating', 'Genres', 'Annualupdate', 'profits'],\n",
       "      dtype='object')"
      ]
     },
     "execution_count": 21,
     "metadata": {},
     "output_type": "execute_result"
    }
   ],
   "source": [
    "df.columns"
   ]
  },
  {
   "cell_type": "code",
   "execution_count": 22,
   "id": "3c4200db",
   "metadata": {},
   "outputs": [
    {
     "data": {
      "text/html": [
       "<div>\n",
       "<style scoped>\n",
       "    .dataframe tbody tr th:only-of-type {\n",
       "        vertical-align: middle;\n",
       "    }\n",
       "\n",
       "    .dataframe tbody tr th {\n",
       "        vertical-align: top;\n",
       "    }\n",
       "\n",
       "    .dataframe thead th {\n",
       "        text-align: right;\n",
       "    }\n",
       "</style>\n",
       "<table border=\"1\" class=\"dataframe\">\n",
       "  <thead>\n",
       "    <tr style=\"text-align: right;\">\n",
       "      <th></th>\n",
       "      <th>Category</th>\n",
       "      <th>Rating</th>\n",
       "      <th>Reviews</th>\n",
       "      <th>Installs</th>\n",
       "      <th>Type</th>\n",
       "      <th>Price</th>\n",
       "      <th>ContentRating</th>\n",
       "      <th>Genres</th>\n",
       "      <th>Annualupdate</th>\n",
       "      <th>profits</th>\n",
       "    </tr>\n",
       "  </thead>\n",
       "  <tbody>\n",
       "    <tr>\n",
       "      <th>0</th>\n",
       "      <td>ART_AND_DESIGN</td>\n",
       "      <td>4.0</td>\n",
       "      <td>159</td>\n",
       "      <td>10000</td>\n",
       "      <td>Free</td>\n",
       "      <td>0</td>\n",
       "      <td>Everyone</td>\n",
       "      <td>Art &amp; Design</td>\n",
       "      <td>2018</td>\n",
       "      <td>0</td>\n",
       "    </tr>\n",
       "    <tr>\n",
       "      <th>1</th>\n",
       "      <td>ART_AND_DESIGN</td>\n",
       "      <td>4.0</td>\n",
       "      <td>967</td>\n",
       "      <td>500000</td>\n",
       "      <td>Free</td>\n",
       "      <td>0</td>\n",
       "      <td>Everyone</td>\n",
       "      <td>Art &amp; Design;Pretend Play</td>\n",
       "      <td>2018</td>\n",
       "      <td>0</td>\n",
       "    </tr>\n",
       "    <tr>\n",
       "      <th>2</th>\n",
       "      <td>ART_AND_DESIGN</td>\n",
       "      <td>5.0</td>\n",
       "      <td>87510</td>\n",
       "      <td>5000000</td>\n",
       "      <td>Free</td>\n",
       "      <td>0</td>\n",
       "      <td>Everyone</td>\n",
       "      <td>Art &amp; Design</td>\n",
       "      <td>2018</td>\n",
       "      <td>0</td>\n",
       "    </tr>\n",
       "    <tr>\n",
       "      <th>3</th>\n",
       "      <td>ART_AND_DESIGN</td>\n",
       "      <td>5.0</td>\n",
       "      <td>215644</td>\n",
       "      <td>50000000</td>\n",
       "      <td>Free</td>\n",
       "      <td>0</td>\n",
       "      <td>Teen</td>\n",
       "      <td>Art &amp; Design</td>\n",
       "      <td>2018</td>\n",
       "      <td>0</td>\n",
       "    </tr>\n",
       "    <tr>\n",
       "      <th>4</th>\n",
       "      <td>ART_AND_DESIGN</td>\n",
       "      <td>4.0</td>\n",
       "      <td>967</td>\n",
       "      <td>100000</td>\n",
       "      <td>Free</td>\n",
       "      <td>0</td>\n",
       "      <td>Everyone</td>\n",
       "      <td>Art &amp; Design;Creativity</td>\n",
       "      <td>2018</td>\n",
       "      <td>0</td>\n",
       "    </tr>\n",
       "  </tbody>\n",
       "</table>\n",
       "</div>"
      ],
      "text/plain": [
       "         Category  Rating  Reviews  Installs  Type  Price ContentRating  \\\n",
       "0  ART_AND_DESIGN     4.0      159     10000  Free      0      Everyone   \n",
       "1  ART_AND_DESIGN     4.0      967    500000  Free      0      Everyone   \n",
       "2  ART_AND_DESIGN     5.0    87510   5000000  Free      0      Everyone   \n",
       "3  ART_AND_DESIGN     5.0   215644  50000000  Free      0          Teen   \n",
       "4  ART_AND_DESIGN     4.0      967    100000  Free      0      Everyone   \n",
       "\n",
       "                      Genres  Annualupdate  profits  \n",
       "0               Art & Design          2018        0  \n",
       "1  Art & Design;Pretend Play          2018        0  \n",
       "2               Art & Design          2018        0  \n",
       "3               Art & Design          2018        0  \n",
       "4    Art & Design;Creativity          2018        0  "
      ]
     },
     "execution_count": 22,
     "metadata": {},
     "output_type": "execute_result"
    }
   ],
   "source": [
    "df.head()"
   ]
  },
  {
   "cell_type": "code",
   "execution_count": 23,
   "id": "065efcdf",
   "metadata": {},
   "outputs": [
    {
     "data": {
      "text/html": [
       "<div>\n",
       "<style scoped>\n",
       "    .dataframe tbody tr th:only-of-type {\n",
       "        vertical-align: middle;\n",
       "    }\n",
       "\n",
       "    .dataframe tbody tr th {\n",
       "        vertical-align: top;\n",
       "    }\n",
       "\n",
       "    .dataframe thead th {\n",
       "        text-align: right;\n",
       "    }\n",
       "</style>\n",
       "<table border=\"1\" class=\"dataframe\">\n",
       "  <thead>\n",
       "    <tr style=\"text-align: right;\">\n",
       "      <th></th>\n",
       "      <th>Category</th>\n",
       "      <th>Rating</th>\n",
       "      <th>Reviews</th>\n",
       "      <th>Installs</th>\n",
       "      <th>Type</th>\n",
       "      <th>Price</th>\n",
       "      <th>ContentRating</th>\n",
       "      <th>Genres</th>\n",
       "      <th>Annualupdate</th>\n",
       "      <th>profits</th>\n",
       "    </tr>\n",
       "  </thead>\n",
       "  <tbody>\n",
       "    <tr>\n",
       "      <th>234</th>\n",
       "      <td>BUSINESS</td>\n",
       "      <td>5.0</td>\n",
       "      <td>11442</td>\n",
       "      <td>100000</td>\n",
       "      <td>Paid</td>\n",
       "      <td>5</td>\n",
       "      <td>Everyone</td>\n",
       "      <td>Business</td>\n",
       "      <td>2018</td>\n",
       "      <td>500000</td>\n",
       "    </tr>\n",
       "    <tr>\n",
       "      <th>235</th>\n",
       "      <td>BUSINESS</td>\n",
       "      <td>5.0</td>\n",
       "      <td>10295</td>\n",
       "      <td>100000</td>\n",
       "      <td>Paid</td>\n",
       "      <td>5</td>\n",
       "      <td>Everyone</td>\n",
       "      <td>Business</td>\n",
       "      <td>2017</td>\n",
       "      <td>500000</td>\n",
       "    </tr>\n",
       "    <tr>\n",
       "      <th>427</th>\n",
       "      <td>COMMUNICATION</td>\n",
       "      <td>4.0</td>\n",
       "      <td>18247</td>\n",
       "      <td>100000</td>\n",
       "      <td>Paid</td>\n",
       "      <td>4</td>\n",
       "      <td>Everyone</td>\n",
       "      <td>Communication</td>\n",
       "      <td>2018</td>\n",
       "      <td>400000</td>\n",
       "    </tr>\n",
       "    <tr>\n",
       "      <th>476</th>\n",
       "      <td>DATING</td>\n",
       "      <td>4.0</td>\n",
       "      <td>1545</td>\n",
       "      <td>10000</td>\n",
       "      <td>Paid</td>\n",
       "      <td>4</td>\n",
       "      <td>Mature</td>\n",
       "      <td>Dating</td>\n",
       "      <td>2018</td>\n",
       "      <td>40000</td>\n",
       "    </tr>\n",
       "    <tr>\n",
       "      <th>477</th>\n",
       "      <td>DATING</td>\n",
       "      <td>3.0</td>\n",
       "      <td>57</td>\n",
       "      <td>1000</td>\n",
       "      <td>Paid</td>\n",
       "      <td>7</td>\n",
       "      <td>Everyone</td>\n",
       "      <td>Dating</td>\n",
       "      <td>2017</td>\n",
       "      <td>7000</td>\n",
       "    </tr>\n",
       "    <tr>\n",
       "      <th>...</th>\n",
       "      <td>...</td>\n",
       "      <td>...</td>\n",
       "      <td>...</td>\n",
       "      <td>...</td>\n",
       "      <td>...</td>\n",
       "      <td>...</td>\n",
       "      <td>...</td>\n",
       "      <td>...</td>\n",
       "      <td>...</td>\n",
       "      <td>...</td>\n",
       "    </tr>\n",
       "    <tr>\n",
       "      <th>10679</th>\n",
       "      <td>GAME</td>\n",
       "      <td>5.0</td>\n",
       "      <td>11235</td>\n",
       "      <td>100000</td>\n",
       "      <td>Paid</td>\n",
       "      <td>3</td>\n",
       "      <td>Everyone</td>\n",
       "      <td>Card</td>\n",
       "      <td>2018</td>\n",
       "      <td>300000</td>\n",
       "    </tr>\n",
       "    <tr>\n",
       "      <th>10682</th>\n",
       "      <td>GAME</td>\n",
       "      <td>4.0</td>\n",
       "      <td>85468</td>\n",
       "      <td>1000000</td>\n",
       "      <td>Paid</td>\n",
       "      <td>1</td>\n",
       "      <td>Everyone</td>\n",
       "      <td>Arcade</td>\n",
       "      <td>2018</td>\n",
       "      <td>1000000</td>\n",
       "    </tr>\n",
       "    <tr>\n",
       "      <th>10760</th>\n",
       "      <td>HEALTH_AND_FITNESS</td>\n",
       "      <td>4.0</td>\n",
       "      <td>35</td>\n",
       "      <td>1000</td>\n",
       "      <td>Paid</td>\n",
       "      <td>8</td>\n",
       "      <td>Everyone</td>\n",
       "      <td>Health &amp; Fitness</td>\n",
       "      <td>2018</td>\n",
       "      <td>8000</td>\n",
       "    </tr>\n",
       "    <tr>\n",
       "      <th>10782</th>\n",
       "      <td>GAME</td>\n",
       "      <td>4.0</td>\n",
       "      <td>252</td>\n",
       "      <td>10000</td>\n",
       "      <td>Paid</td>\n",
       "      <td>17</td>\n",
       "      <td>Teen</td>\n",
       "      <td>Action</td>\n",
       "      <td>2015</td>\n",
       "      <td>170000</td>\n",
       "    </tr>\n",
       "    <tr>\n",
       "      <th>10785</th>\n",
       "      <td>FAMILY</td>\n",
       "      <td>4.0</td>\n",
       "      <td>1405</td>\n",
       "      <td>10000</td>\n",
       "      <td>Paid</td>\n",
       "      <td>1</td>\n",
       "      <td>Everyone</td>\n",
       "      <td>Puzzle</td>\n",
       "      <td>2018</td>\n",
       "      <td>10000</td>\n",
       "    </tr>\n",
       "  </tbody>\n",
       "</table>\n",
       "<p>610 rows × 10 columns</p>\n",
       "</div>"
      ],
      "text/plain": [
       "                 Category  Rating  Reviews  Installs  Type  Price  \\\n",
       "234              BUSINESS     5.0    11442    100000  Paid      5   \n",
       "235              BUSINESS     5.0    10295    100000  Paid      5   \n",
       "427         COMMUNICATION     4.0    18247    100000  Paid      4   \n",
       "476                DATING     4.0     1545     10000  Paid      4   \n",
       "477                DATING     3.0       57      1000  Paid      7   \n",
       "...                   ...     ...      ...       ...   ...    ...   \n",
       "10679                GAME     5.0    11235    100000  Paid      3   \n",
       "10682                GAME     4.0    85468   1000000  Paid      1   \n",
       "10760  HEALTH_AND_FITNESS     4.0       35      1000  Paid      8   \n",
       "10782                GAME     4.0      252     10000  Paid     17   \n",
       "10785              FAMILY     4.0     1405     10000  Paid      1   \n",
       "\n",
       "      ContentRating            Genres  Annualupdate  profits  \n",
       "234        Everyone          Business          2018   500000  \n",
       "235        Everyone          Business          2017   500000  \n",
       "427        Everyone     Communication          2018   400000  \n",
       "476          Mature            Dating          2018    40000  \n",
       "477        Everyone            Dating          2017     7000  \n",
       "...             ...               ...           ...      ...  \n",
       "10679      Everyone              Card          2018   300000  \n",
       "10682      Everyone            Arcade          2018  1000000  \n",
       "10760      Everyone  Health & Fitness          2018     8000  \n",
       "10782          Teen            Action          2015   170000  \n",
       "10785      Everyone            Puzzle          2018    10000  \n",
       "\n",
       "[610 rows x 10 columns]"
      ]
     },
     "execution_count": 23,
     "metadata": {},
     "output_type": "execute_result"
    }
   ],
   "source": [
    "df[df['profits']!=0]"
   ]
  },
  {
   "cell_type": "code",
   "execution_count": 24,
   "id": "6aa32946",
   "metadata": {},
   "outputs": [
    {
     "data": {
      "text/plain": [
       "Category         0\n",
       "Rating           0\n",
       "Reviews          0\n",
       "Installs         0\n",
       "Type             0\n",
       "Price            0\n",
       "ContentRating    0\n",
       "Genres           0\n",
       "Annualupdate     0\n",
       "profits          0\n",
       "dtype: int64"
      ]
     },
     "execution_count": 24,
     "metadata": {},
     "output_type": "execute_result"
    }
   ],
   "source": [
    "df.replace([ ' ','NaN', 'Na','NA', '#', '?', '/'], np.nan).isna().sum()"
   ]
  },
  {
   "cell_type": "markdown",
   "id": "5ae31646",
   "metadata": {},
   "source": [
    "# Convert column type and change values"
   ]
  },
  {
   "cell_type": "code",
   "execution_count": 25,
   "id": "eebdd148",
   "metadata": {},
   "outputs": [
    {
     "data": {
      "text/plain": [
       "FAMILY                 1704\n",
       "GAME                   1073\n",
       "TOOLS                   725\n",
       "PRODUCTIVITY            331\n",
       "FINANCE                 313\n",
       "COMMUNICATION           307\n",
       "PERSONALIZATION         306\n",
       "PHOTOGRAPHY             304\n",
       "LIFESTYLE               298\n",
       "MEDICAL                 293\n",
       "SPORTS                  285\n",
       "BUSINESS                266\n",
       "HEALTH_AND_FITNESS      262\n",
       "SOCIAL                  244\n",
       "NEWS_AND_MAGAZINES      212\n",
       "TRAVEL_AND_LOCAL        205\n",
       "SHOPPING                200\n",
       "BOOKS_AND_REFERENCE     176\n",
       "VIDEO_PLAYERS           160\n",
       "DATING                  157\n",
       "EDUCATION               129\n",
       "MAPS_AND_NAVIGATION     123\n",
       "ENTERTAINMENT           110\n",
       "FOOD_AND_DRINK          106\n",
       "WEATHER                  75\n",
       "AUTO_AND_VEHICLES        72\n",
       "HOUSE_AND_HOME           68\n",
       "LIBRARIES_AND_DEMO       63\n",
       "ART_AND_DESIGN           62\n",
       "COMICS                   58\n",
       "PARENTING                50\n",
       "EVENTS                   45\n",
       "BEAUTY                   42\n",
       "Name: Category, dtype: int64"
      ]
     },
     "execution_count": 25,
     "metadata": {},
     "output_type": "execute_result"
    }
   ],
   "source": [
    "df.Category.value_counts()"
   ]
  },
  {
   "cell_type": "code",
   "execution_count": 26,
   "id": "e2e348e3",
   "metadata": {},
   "outputs": [],
   "source": [
    "cate_dict = {\n",
    "'FAMILY'                   :0,\n",
    "'GAME'                     :1,\n",
    "'TOOLS'                    :2,\n",
    "'PRODUCTIVITY'             :3,\n",
    "'FINANCE'                  :4,\n",
    "'COMMUNICATION'            :5,\n",
    "'PERSONALIZATION'          :6,\n",
    "'PHOTOGRAPHY'              :7,\n",
    "'LIFESTYLE'                :8,\n",
    "'MEDICAL'                  :9,\n",
    "'SPORTS'                  :10,\n",
    "'BUSINESS'                :11,\n",
    "'HEALTH_AND_FITNESS'      :12,\n",
    "'SOCIAL'                  :13,\n",
    "'NEWS_AND_MAGAZINES'      :14,\n",
    "'TRAVEL_AND_LOCAL'        :15,\n",
    "'SHOPPING'                :16,\n",
    "'BOOKS_AND_REFERENCE'     :17,\n",
    "'VIDEO_PLAYERS'           :18,\n",
    "'DATING'                  :19,\n",
    "'EDUCATION'               :20,\n",
    "'MAPS_AND_NAVIGATION'     :21,\n",
    "'ENTERTAINMENT'           :22,\n",
    "'FOOD_AND_DRINK'          :23,\n",
    "'WEATHER'                 :24,\n",
    "'AUTO_AND_VEHICLES'       :25,\n",
    "'HOUSE_AND_HOME'          :26,\n",
    "'LIBRARIES_AND_DEMO'      :27,\n",
    "'ART_AND_DESIGN'          :28,\n",
    "'COMICS'                  :29,\n",
    "'PARENTING'               :30,\n",
    "'EVENTS'                  :31,\n",
    "'BEAUTY'                  :32}"
   ]
  },
  {
   "cell_type": "code",
   "execution_count": 27,
   "id": "cd2bf380",
   "metadata": {},
   "outputs": [
    {
     "data": {
      "text/plain": [
       "0        28\n",
       "1        28\n",
       "2        28\n",
       "3        28\n",
       "4        28\n",
       "         ..\n",
       "10833    17\n",
       "10834     0\n",
       "10836     0\n",
       "10839    17\n",
       "10840     8\n",
       "Name: Category, Length: 8824, dtype: int64"
      ]
     },
     "execution_count": 27,
     "metadata": {},
     "output_type": "execute_result"
    }
   ],
   "source": [
    "df.Category.map(cate_dict) "
   ]
  },
  {
   "cell_type": "code",
   "execution_count": 28,
   "id": "470cbf95",
   "metadata": {},
   "outputs": [],
   "source": [
    "df['cate'] =df.Category.map(cate_dict)"
   ]
  },
  {
   "cell_type": "code",
   "execution_count": 29,
   "id": "55a74ffe",
   "metadata": {},
   "outputs": [
    {
     "data": {
      "text/plain": [
       "Everyone       7390\n",
       "Teen           1021\n",
       "Mature          409\n",
       "Adults only       3\n",
       "Unrated           1\n",
       "Name: ContentRating, dtype: int64"
      ]
     },
     "execution_count": 29,
     "metadata": {},
     "output_type": "execute_result"
    }
   ],
   "source": [
    "df.ContentRating.value_counts()"
   ]
  },
  {
   "cell_type": "code",
   "execution_count": 30,
   "id": "9dab79bb",
   "metadata": {},
   "outputs": [],
   "source": [
    "contrating_dict = {\n",
    "'Everyone'                  :1,\n",
    "'Teen'                      :2,\n",
    "'Mature'                    :3,\n",
    "'Adults only'               :4,\n",
    "'Unrated'                   :5 }\n"
   ]
  },
  {
   "cell_type": "code",
   "execution_count": 31,
   "id": "51972b63",
   "metadata": {},
   "outputs": [
    {
     "data": {
      "text/plain": [
       "0        1\n",
       "1        1\n",
       "2        1\n",
       "3        2\n",
       "4        1\n",
       "        ..\n",
       "10833    1\n",
       "10834    1\n",
       "10836    1\n",
       "10839    3\n",
       "10840    1\n",
       "Name: ContentRating, Length: 8824, dtype: int64"
      ]
     },
     "execution_count": 31,
     "metadata": {},
     "output_type": "execute_result"
    }
   ],
   "source": [
    "df.ContentRating.map(contrating_dict)"
   ]
  },
  {
   "cell_type": "code",
   "execution_count": 32,
   "id": "50c1cfe3",
   "metadata": {},
   "outputs": [],
   "source": [
    "df['contrating'] =df.ContentRating.map(contrating_dict)"
   ]
  },
  {
   "cell_type": "code",
   "execution_count": 33,
   "id": "dc6cdf17",
   "metadata": {},
   "outputs": [
    {
     "data": {
      "text/plain": [
       "Free    8214\n",
       "Paid     610\n",
       "Name: Type, dtype: int64"
      ]
     },
     "execution_count": 33,
     "metadata": {},
     "output_type": "execute_result"
    }
   ],
   "source": [
    "df.Type.value_counts()"
   ]
  },
  {
   "cell_type": "code",
   "execution_count": 34,
   "id": "95f1d836",
   "metadata": {},
   "outputs": [],
   "source": [
    "Ty_dict = {\n",
    "'Free'                  :0, \n",
    "'Paid'                  :1}"
   ]
  },
  {
   "cell_type": "code",
   "execution_count": 35,
   "id": "517aba2a",
   "metadata": {},
   "outputs": [
    {
     "data": {
      "text/plain": [
       "0        0\n",
       "1        0\n",
       "2        0\n",
       "3        0\n",
       "4        0\n",
       "        ..\n",
       "10833    0\n",
       "10834    0\n",
       "10836    0\n",
       "10839    0\n",
       "10840    0\n",
       "Name: Type, Length: 8824, dtype: int64"
      ]
     },
     "execution_count": 35,
     "metadata": {},
     "output_type": "execute_result"
    }
   ],
   "source": [
    "df.Type.map(Ty_dict)"
   ]
  },
  {
   "cell_type": "code",
   "execution_count": 36,
   "id": "51690d6e",
   "metadata": {},
   "outputs": [],
   "source": [
    "df['PFtype'] =df.Type.map(Ty_dict)"
   ]
  },
  {
   "cell_type": "code",
   "execution_count": 37,
   "id": "735209e3",
   "metadata": {},
   "outputs": [
    {
     "data": {
      "text/html": [
       "<div>\n",
       "<style scoped>\n",
       "    .dataframe tbody tr th:only-of-type {\n",
       "        vertical-align: middle;\n",
       "    }\n",
       "\n",
       "    .dataframe tbody tr th {\n",
       "        vertical-align: top;\n",
       "    }\n",
       "\n",
       "    .dataframe thead th {\n",
       "        text-align: right;\n",
       "    }\n",
       "</style>\n",
       "<table border=\"1\" class=\"dataframe\">\n",
       "  <thead>\n",
       "    <tr style=\"text-align: right;\">\n",
       "      <th></th>\n",
       "      <th>Category</th>\n",
       "      <th>Rating</th>\n",
       "      <th>Reviews</th>\n",
       "      <th>Installs</th>\n",
       "      <th>Type</th>\n",
       "      <th>Price</th>\n",
       "      <th>ContentRating</th>\n",
       "      <th>Genres</th>\n",
       "      <th>Annualupdate</th>\n",
       "      <th>profits</th>\n",
       "      <th>cate</th>\n",
       "      <th>contrating</th>\n",
       "      <th>PFtype</th>\n",
       "    </tr>\n",
       "  </thead>\n",
       "  <tbody>\n",
       "    <tr>\n",
       "      <th>0</th>\n",
       "      <td>ART_AND_DESIGN</td>\n",
       "      <td>4.0</td>\n",
       "      <td>159</td>\n",
       "      <td>10000</td>\n",
       "      <td>Free</td>\n",
       "      <td>0</td>\n",
       "      <td>Everyone</td>\n",
       "      <td>Art &amp; Design</td>\n",
       "      <td>2018</td>\n",
       "      <td>0</td>\n",
       "      <td>28</td>\n",
       "      <td>1</td>\n",
       "      <td>0</td>\n",
       "    </tr>\n",
       "    <tr>\n",
       "      <th>1</th>\n",
       "      <td>ART_AND_DESIGN</td>\n",
       "      <td>4.0</td>\n",
       "      <td>967</td>\n",
       "      <td>500000</td>\n",
       "      <td>Free</td>\n",
       "      <td>0</td>\n",
       "      <td>Everyone</td>\n",
       "      <td>Art &amp; Design;Pretend Play</td>\n",
       "      <td>2018</td>\n",
       "      <td>0</td>\n",
       "      <td>28</td>\n",
       "      <td>1</td>\n",
       "      <td>0</td>\n",
       "    </tr>\n",
       "    <tr>\n",
       "      <th>2</th>\n",
       "      <td>ART_AND_DESIGN</td>\n",
       "      <td>5.0</td>\n",
       "      <td>87510</td>\n",
       "      <td>5000000</td>\n",
       "      <td>Free</td>\n",
       "      <td>0</td>\n",
       "      <td>Everyone</td>\n",
       "      <td>Art &amp; Design</td>\n",
       "      <td>2018</td>\n",
       "      <td>0</td>\n",
       "      <td>28</td>\n",
       "      <td>1</td>\n",
       "      <td>0</td>\n",
       "    </tr>\n",
       "    <tr>\n",
       "      <th>3</th>\n",
       "      <td>ART_AND_DESIGN</td>\n",
       "      <td>5.0</td>\n",
       "      <td>215644</td>\n",
       "      <td>50000000</td>\n",
       "      <td>Free</td>\n",
       "      <td>0</td>\n",
       "      <td>Teen</td>\n",
       "      <td>Art &amp; Design</td>\n",
       "      <td>2018</td>\n",
       "      <td>0</td>\n",
       "      <td>28</td>\n",
       "      <td>2</td>\n",
       "      <td>0</td>\n",
       "    </tr>\n",
       "    <tr>\n",
       "      <th>4</th>\n",
       "      <td>ART_AND_DESIGN</td>\n",
       "      <td>4.0</td>\n",
       "      <td>967</td>\n",
       "      <td>100000</td>\n",
       "      <td>Free</td>\n",
       "      <td>0</td>\n",
       "      <td>Everyone</td>\n",
       "      <td>Art &amp; Design;Creativity</td>\n",
       "      <td>2018</td>\n",
       "      <td>0</td>\n",
       "      <td>28</td>\n",
       "      <td>1</td>\n",
       "      <td>0</td>\n",
       "    </tr>\n",
       "  </tbody>\n",
       "</table>\n",
       "</div>"
      ],
      "text/plain": [
       "         Category  Rating  Reviews  Installs  Type  Price ContentRating  \\\n",
       "0  ART_AND_DESIGN     4.0      159     10000  Free      0      Everyone   \n",
       "1  ART_AND_DESIGN     4.0      967    500000  Free      0      Everyone   \n",
       "2  ART_AND_DESIGN     5.0    87510   5000000  Free      0      Everyone   \n",
       "3  ART_AND_DESIGN     5.0   215644  50000000  Free      0          Teen   \n",
       "4  ART_AND_DESIGN     4.0      967    100000  Free      0      Everyone   \n",
       "\n",
       "                      Genres  Annualupdate  profits  cate  contrating  PFtype  \n",
       "0               Art & Design          2018        0    28           1       0  \n",
       "1  Art & Design;Pretend Play          2018        0    28           1       0  \n",
       "2               Art & Design          2018        0    28           1       0  \n",
       "3               Art & Design          2018        0    28           2       0  \n",
       "4    Art & Design;Creativity          2018        0    28           1       0  "
      ]
     },
     "execution_count": 37,
     "metadata": {},
     "output_type": "execute_result"
    }
   ],
   "source": [
    "df.head()"
   ]
  },
  {
   "cell_type": "code",
   "execution_count": 38,
   "id": "ea928f5c",
   "metadata": {},
   "outputs": [
    {
     "name": "stdout",
     "output_type": "stream",
     "text": [
      "<class 'pandas.core.frame.DataFrame'>\n",
      "Int64Index: 8824 entries, 0 to 10840\n",
      "Data columns (total 13 columns):\n",
      " #   Column         Non-Null Count  Dtype  \n",
      "---  ------         --------------  -----  \n",
      " 0   Category       8824 non-null   object \n",
      " 1   Rating         8824 non-null   float64\n",
      " 2   Reviews        8824 non-null   int64  \n",
      " 3   Installs       8824 non-null   int64  \n",
      " 4   Type           8824 non-null   object \n",
      " 5   Price          8824 non-null   int64  \n",
      " 6   ContentRating  8824 non-null   object \n",
      " 7   Genres         8824 non-null   object \n",
      " 8   Annualupdate   8824 non-null   int64  \n",
      " 9   profits        8824 non-null   int64  \n",
      " 10  cate           8824 non-null   int64  \n",
      " 11  contrating     8824 non-null   int64  \n",
      " 12  PFtype         8824 non-null   int64  \n",
      "dtypes: float64(1), int64(8), object(4)\n",
      "memory usage: 965.1+ KB\n"
     ]
    }
   ],
   "source": [
    "df.info()"
   ]
  },
  {
   "cell_type": "code",
   "execution_count": 39,
   "id": "a8d7743b",
   "metadata": {},
   "outputs": [
    {
     "data": {
      "text/html": [
       "<div>\n",
       "<style scoped>\n",
       "    .dataframe tbody tr th:only-of-type {\n",
       "        vertical-align: middle;\n",
       "    }\n",
       "\n",
       "    .dataframe tbody tr th {\n",
       "        vertical-align: top;\n",
       "    }\n",
       "\n",
       "    .dataframe thead th {\n",
       "        text-align: right;\n",
       "    }\n",
       "</style>\n",
       "<table border=\"1\" class=\"dataframe\">\n",
       "  <thead>\n",
       "    <tr style=\"text-align: right;\">\n",
       "      <th></th>\n",
       "      <th>Rating</th>\n",
       "      <th>Reviews</th>\n",
       "      <th>Installs</th>\n",
       "      <th>Price</th>\n",
       "      <th>Annualupdate</th>\n",
       "      <th>profits</th>\n",
       "      <th>cate</th>\n",
       "      <th>contrating</th>\n",
       "      <th>PFtype</th>\n",
       "    </tr>\n",
       "  </thead>\n",
       "  <tbody>\n",
       "    <tr>\n",
       "      <th>count</th>\n",
       "      <td>8824.000000</td>\n",
       "      <td>8.824000e+03</td>\n",
       "      <td>8.824000e+03</td>\n",
       "      <td>8824.000000</td>\n",
       "      <td>8824.000000</td>\n",
       "      <td>8.824000e+03</td>\n",
       "      <td>8824.000000</td>\n",
       "      <td>8824.000000</td>\n",
       "      <td>8824.000000</td>\n",
       "    </tr>\n",
       "    <tr>\n",
       "      <th>mean</th>\n",
       "      <td>4.215888</td>\n",
       "      <td>4.763893e+05</td>\n",
       "      <td>1.661419e+07</td>\n",
       "      <td>0.967135</td>\n",
       "      <td>2017.399479</td>\n",
       "      <td>4.156222e+04</td>\n",
       "      <td>7.958409</td>\n",
       "      <td>1.209882</td>\n",
       "      <td>0.069130</td>\n",
       "    </tr>\n",
       "    <tr>\n",
       "      <th>std</th>\n",
       "      <td>0.635721</td>\n",
       "      <td>2.915932e+06</td>\n",
       "      <td>8.669639e+07</td>\n",
       "      <td>16.251482</td>\n",
       "      <td>1.119457</td>\n",
       "      <td>1.178667e+06</td>\n",
       "      <td>8.186258</td>\n",
       "      <td>0.511823</td>\n",
       "      <td>0.253689</td>\n",
       "    </tr>\n",
       "    <tr>\n",
       "      <th>min</th>\n",
       "      <td>1.000000</td>\n",
       "      <td>1.000000e+00</td>\n",
       "      <td>1.000000e+00</td>\n",
       "      <td>0.000000</td>\n",
       "      <td>2010.000000</td>\n",
       "      <td>0.000000e+00</td>\n",
       "      <td>0.000000</td>\n",
       "      <td>1.000000</td>\n",
       "      <td>0.000000</td>\n",
       "    </tr>\n",
       "    <tr>\n",
       "      <th>25%</th>\n",
       "      <td>4.000000</td>\n",
       "      <td>1.760000e+02</td>\n",
       "      <td>1.000000e+04</td>\n",
       "      <td>0.000000</td>\n",
       "      <td>2017.000000</td>\n",
       "      <td>0.000000e+00</td>\n",
       "      <td>1.000000</td>\n",
       "      <td>1.000000</td>\n",
       "      <td>0.000000</td>\n",
       "    </tr>\n",
       "    <tr>\n",
       "      <th>50%</th>\n",
       "      <td>4.000000</td>\n",
       "      <td>4.953500e+03</td>\n",
       "      <td>5.000000e+05</td>\n",
       "      <td>0.000000</td>\n",
       "      <td>2018.000000</td>\n",
       "      <td>0.000000e+00</td>\n",
       "      <td>5.000000</td>\n",
       "      <td>1.000000</td>\n",
       "      <td>0.000000</td>\n",
       "    </tr>\n",
       "    <tr>\n",
       "      <th>75%</th>\n",
       "      <td>5.000000</td>\n",
       "      <td>7.227975e+04</td>\n",
       "      <td>5.000000e+06</td>\n",
       "      <td>0.000000</td>\n",
       "      <td>2018.000000</td>\n",
       "      <td>0.000000e+00</td>\n",
       "      <td>13.000000</td>\n",
       "      <td>1.000000</td>\n",
       "      <td>0.000000</td>\n",
       "    </tr>\n",
       "    <tr>\n",
       "      <th>max</th>\n",
       "      <td>5.000000</td>\n",
       "      <td>7.815831e+07</td>\n",
       "      <td>1.000000e+09</td>\n",
       "      <td>400.000000</td>\n",
       "      <td>2018.000000</td>\n",
       "      <td>7.000000e+07</td>\n",
       "      <td>32.000000</td>\n",
       "      <td>5.000000</td>\n",
       "      <td>1.000000</td>\n",
       "    </tr>\n",
       "  </tbody>\n",
       "</table>\n",
       "</div>"
      ],
      "text/plain": [
       "            Rating       Reviews      Installs        Price  Annualupdate  \\\n",
       "count  8824.000000  8.824000e+03  8.824000e+03  8824.000000   8824.000000   \n",
       "mean      4.215888  4.763893e+05  1.661419e+07     0.967135   2017.399479   \n",
       "std       0.635721  2.915932e+06  8.669639e+07    16.251482      1.119457   \n",
       "min       1.000000  1.000000e+00  1.000000e+00     0.000000   2010.000000   \n",
       "25%       4.000000  1.760000e+02  1.000000e+04     0.000000   2017.000000   \n",
       "50%       4.000000  4.953500e+03  5.000000e+05     0.000000   2018.000000   \n",
       "75%       5.000000  7.227975e+04  5.000000e+06     0.000000   2018.000000   \n",
       "max       5.000000  7.815831e+07  1.000000e+09   400.000000   2018.000000   \n",
       "\n",
       "            profits         cate   contrating       PFtype  \n",
       "count  8.824000e+03  8824.000000  8824.000000  8824.000000  \n",
       "mean   4.156222e+04     7.958409     1.209882     0.069130  \n",
       "std    1.178667e+06     8.186258     0.511823     0.253689  \n",
       "min    0.000000e+00     0.000000     1.000000     0.000000  \n",
       "25%    0.000000e+00     1.000000     1.000000     0.000000  \n",
       "50%    0.000000e+00     5.000000     1.000000     0.000000  \n",
       "75%    0.000000e+00    13.000000     1.000000     0.000000  \n",
       "max    7.000000e+07    32.000000     5.000000     1.000000  "
      ]
     },
     "execution_count": 39,
     "metadata": {},
     "output_type": "execute_result"
    }
   ],
   "source": [
    " df.describe()"
   ]
  },
  {
   "cell_type": "code",
   "execution_count": 40,
   "id": "987d5dee",
   "metadata": {},
   "outputs": [
    {
     "data": {
      "text/html": [
       "<div>\n",
       "<style scoped>\n",
       "    .dataframe tbody tr th:only-of-type {\n",
       "        vertical-align: middle;\n",
       "    }\n",
       "\n",
       "    .dataframe tbody tr th {\n",
       "        vertical-align: top;\n",
       "    }\n",
       "\n",
       "    .dataframe thead th {\n",
       "        text-align: right;\n",
       "    }\n",
       "</style>\n",
       "<table border=\"1\" class=\"dataframe\">\n",
       "  <thead>\n",
       "    <tr style=\"text-align: right;\">\n",
       "      <th></th>\n",
       "      <th>Category</th>\n",
       "      <th>Rating</th>\n",
       "      <th>Reviews</th>\n",
       "      <th>Installs</th>\n",
       "      <th>Type</th>\n",
       "      <th>Price</th>\n",
       "      <th>ContentRating</th>\n",
       "      <th>Genres</th>\n",
       "      <th>Annualupdate</th>\n",
       "      <th>profits</th>\n",
       "      <th>cate</th>\n",
       "      <th>contrating</th>\n",
       "      <th>PFtype</th>\n",
       "    </tr>\n",
       "  </thead>\n",
       "  <tbody>\n",
       "    <tr>\n",
       "      <th>4197</th>\n",
       "      <td>FAMILY</td>\n",
       "      <td>4.0</td>\n",
       "      <td>6</td>\n",
       "      <td>100</td>\n",
       "      <td>Paid</td>\n",
       "      <td>400</td>\n",
       "      <td>Everyone</td>\n",
       "      <td>Entertainment</td>\n",
       "      <td>2018</td>\n",
       "      <td>40000</td>\n",
       "      <td>0</td>\n",
       "      <td>1</td>\n",
       "      <td>1</td>\n",
       "    </tr>\n",
       "    <tr>\n",
       "      <th>4362</th>\n",
       "      <td>LIFESTYLE</td>\n",
       "      <td>4.0</td>\n",
       "      <td>718</td>\n",
       "      <td>10000</td>\n",
       "      <td>Paid</td>\n",
       "      <td>400</td>\n",
       "      <td>Everyone</td>\n",
       "      <td>Lifestyle</td>\n",
       "      <td>2018</td>\n",
       "      <td>4000000</td>\n",
       "      <td>8</td>\n",
       "      <td>1</td>\n",
       "      <td>1</td>\n",
       "    </tr>\n",
       "    <tr>\n",
       "      <th>4367</th>\n",
       "      <td>LIFESTYLE</td>\n",
       "      <td>4.0</td>\n",
       "      <td>275</td>\n",
       "      <td>10000</td>\n",
       "      <td>Paid</td>\n",
       "      <td>400</td>\n",
       "      <td>Everyone</td>\n",
       "      <td>Lifestyle</td>\n",
       "      <td>2018</td>\n",
       "      <td>4000000</td>\n",
       "      <td>8</td>\n",
       "      <td>1</td>\n",
       "      <td>1</td>\n",
       "    </tr>\n",
       "    <tr>\n",
       "      <th>5351</th>\n",
       "      <td>LIFESTYLE</td>\n",
       "      <td>4.0</td>\n",
       "      <td>3547</td>\n",
       "      <td>100000</td>\n",
       "      <td>Paid</td>\n",
       "      <td>400</td>\n",
       "      <td>Everyone</td>\n",
       "      <td>Lifestyle</td>\n",
       "      <td>2018</td>\n",
       "      <td>40000000</td>\n",
       "      <td>8</td>\n",
       "      <td>1</td>\n",
       "      <td>1</td>\n",
       "    </tr>\n",
       "    <tr>\n",
       "      <th>5354</th>\n",
       "      <td>FAMILY</td>\n",
       "      <td>4.0</td>\n",
       "      <td>856</td>\n",
       "      <td>10000</td>\n",
       "      <td>Paid</td>\n",
       "      <td>400</td>\n",
       "      <td>Everyone</td>\n",
       "      <td>Entertainment</td>\n",
       "      <td>2018</td>\n",
       "      <td>4000000</td>\n",
       "      <td>0</td>\n",
       "      <td>1</td>\n",
       "      <td>1</td>\n",
       "    </tr>\n",
       "    <tr>\n",
       "      <th>5356</th>\n",
       "      <td>FINANCE</td>\n",
       "      <td>4.0</td>\n",
       "      <td>1867</td>\n",
       "      <td>50000</td>\n",
       "      <td>Paid</td>\n",
       "      <td>400</td>\n",
       "      <td>Everyone</td>\n",
       "      <td>Finance</td>\n",
       "      <td>2017</td>\n",
       "      <td>20000000</td>\n",
       "      <td>4</td>\n",
       "      <td>1</td>\n",
       "      <td>1</td>\n",
       "    </tr>\n",
       "    <tr>\n",
       "      <th>5358</th>\n",
       "      <td>FINANCE</td>\n",
       "      <td>4.0</td>\n",
       "      <td>93</td>\n",
       "      <td>1000</td>\n",
       "      <td>Paid</td>\n",
       "      <td>400</td>\n",
       "      <td>Everyone</td>\n",
       "      <td>Finance</td>\n",
       "      <td>2017</td>\n",
       "      <td>400000</td>\n",
       "      <td>4</td>\n",
       "      <td>1</td>\n",
       "      <td>1</td>\n",
       "    </tr>\n",
       "    <tr>\n",
       "      <th>5359</th>\n",
       "      <td>FINANCE</td>\n",
       "      <td>4.0</td>\n",
       "      <td>472</td>\n",
       "      <td>5000</td>\n",
       "      <td>Paid</td>\n",
       "      <td>400</td>\n",
       "      <td>Everyone</td>\n",
       "      <td>Finance</td>\n",
       "      <td>2017</td>\n",
       "      <td>2000000</td>\n",
       "      <td>4</td>\n",
       "      <td>1</td>\n",
       "      <td>1</td>\n",
       "    </tr>\n",
       "    <tr>\n",
       "      <th>5362</th>\n",
       "      <td>FAMILY</td>\n",
       "      <td>4.0</td>\n",
       "      <td>201</td>\n",
       "      <td>5000</td>\n",
       "      <td>Paid</td>\n",
       "      <td>400</td>\n",
       "      <td>Everyone</td>\n",
       "      <td>Entertainment</td>\n",
       "      <td>2017</td>\n",
       "      <td>2000000</td>\n",
       "      <td>0</td>\n",
       "      <td>1</td>\n",
       "      <td>1</td>\n",
       "    </tr>\n",
       "    <tr>\n",
       "      <th>5364</th>\n",
       "      <td>FINANCE</td>\n",
       "      <td>4.0</td>\n",
       "      <td>129</td>\n",
       "      <td>1000</td>\n",
       "      <td>Paid</td>\n",
       "      <td>400</td>\n",
       "      <td>Teen</td>\n",
       "      <td>Finance</td>\n",
       "      <td>2017</td>\n",
       "      <td>400000</td>\n",
       "      <td>4</td>\n",
       "      <td>2</td>\n",
       "      <td>1</td>\n",
       "    </tr>\n",
       "    <tr>\n",
       "      <th>5369</th>\n",
       "      <td>FINANCE</td>\n",
       "      <td>4.0</td>\n",
       "      <td>180</td>\n",
       "      <td>5000</td>\n",
       "      <td>Paid</td>\n",
       "      <td>400</td>\n",
       "      <td>Everyone</td>\n",
       "      <td>Finance</td>\n",
       "      <td>2018</td>\n",
       "      <td>2000000</td>\n",
       "      <td>4</td>\n",
       "      <td>1</td>\n",
       "      <td>1</td>\n",
       "    </tr>\n",
       "    <tr>\n",
       "      <th>5373</th>\n",
       "      <td>FINANCE</td>\n",
       "      <td>4.0</td>\n",
       "      <td>36</td>\n",
       "      <td>1000</td>\n",
       "      <td>Paid</td>\n",
       "      <td>400</td>\n",
       "      <td>Everyone</td>\n",
       "      <td>Finance</td>\n",
       "      <td>2018</td>\n",
       "      <td>400000</td>\n",
       "      <td>4</td>\n",
       "      <td>1</td>\n",
       "      <td>1</td>\n",
       "    </tr>\n",
       "  </tbody>\n",
       "</table>\n",
       "</div>"
      ],
      "text/plain": [
       "       Category  Rating  Reviews  Installs  Type  Price ContentRating  \\\n",
       "4197     FAMILY     4.0        6       100  Paid    400      Everyone   \n",
       "4362  LIFESTYLE     4.0      718     10000  Paid    400      Everyone   \n",
       "4367  LIFESTYLE     4.0      275     10000  Paid    400      Everyone   \n",
       "5351  LIFESTYLE     4.0     3547    100000  Paid    400      Everyone   \n",
       "5354     FAMILY     4.0      856     10000  Paid    400      Everyone   \n",
       "5356    FINANCE     4.0     1867     50000  Paid    400      Everyone   \n",
       "5358    FINANCE     4.0       93      1000  Paid    400      Everyone   \n",
       "5359    FINANCE     4.0      472      5000  Paid    400      Everyone   \n",
       "5362     FAMILY     4.0      201      5000  Paid    400      Everyone   \n",
       "5364    FINANCE     4.0      129      1000  Paid    400          Teen   \n",
       "5369    FINANCE     4.0      180      5000  Paid    400      Everyone   \n",
       "5373    FINANCE     4.0       36      1000  Paid    400      Everyone   \n",
       "\n",
       "             Genres  Annualupdate   profits  cate  contrating  PFtype  \n",
       "4197  Entertainment          2018     40000     0           1       1  \n",
       "4362      Lifestyle          2018   4000000     8           1       1  \n",
       "4367      Lifestyle          2018   4000000     8           1       1  \n",
       "5351      Lifestyle          2018  40000000     8           1       1  \n",
       "5354  Entertainment          2018   4000000     0           1       1  \n",
       "5356        Finance          2017  20000000     4           1       1  \n",
       "5358        Finance          2017    400000     4           1       1  \n",
       "5359        Finance          2017   2000000     4           1       1  \n",
       "5362  Entertainment          2017   2000000     0           1       1  \n",
       "5364        Finance          2017    400000     4           2       1  \n",
       "5369        Finance          2018   2000000     4           1       1  \n",
       "5373        Finance          2018    400000     4           1       1  "
      ]
     },
     "execution_count": 40,
     "metadata": {},
     "output_type": "execute_result"
    }
   ],
   "source": [
    "df[df['Price'] == df['Price'].max()]"
   ]
  },
  {
   "cell_type": "code",
   "execution_count": 41,
   "id": "df39f412",
   "metadata": {},
   "outputs": [
    {
     "data": {
      "text/html": [
       "<div>\n",
       "<style scoped>\n",
       "    .dataframe tbody tr th:only-of-type {\n",
       "        vertical-align: middle;\n",
       "    }\n",
       "\n",
       "    .dataframe tbody tr th {\n",
       "        vertical-align: top;\n",
       "    }\n",
       "\n",
       "    .dataframe thead th {\n",
       "        text-align: right;\n",
       "    }\n",
       "</style>\n",
       "<table border=\"1\" class=\"dataframe\">\n",
       "  <thead>\n",
       "    <tr style=\"text-align: right;\">\n",
       "      <th></th>\n",
       "      <th>Category</th>\n",
       "      <th>Rating</th>\n",
       "      <th>Reviews</th>\n",
       "      <th>Installs</th>\n",
       "      <th>Type</th>\n",
       "      <th>Price</th>\n",
       "      <th>ContentRating</th>\n",
       "      <th>Genres</th>\n",
       "      <th>Annualupdate</th>\n",
       "      <th>profits</th>\n",
       "      <th>cate</th>\n",
       "      <th>contrating</th>\n",
       "      <th>PFtype</th>\n",
       "    </tr>\n",
       "  </thead>\n",
       "  <tbody>\n",
       "    <tr>\n",
       "      <th>2241</th>\n",
       "      <td>FAMILY</td>\n",
       "      <td>5.0</td>\n",
       "      <td>2376564</td>\n",
       "      <td>10000000</td>\n",
       "      <td>Paid</td>\n",
       "      <td>7</td>\n",
       "      <td>Everyone</td>\n",
       "      <td>Arcade;Action &amp; Adventure</td>\n",
       "      <td>2018</td>\n",
       "      <td>70000000</td>\n",
       "      <td>0</td>\n",
       "      <td>1</td>\n",
       "      <td>1</td>\n",
       "    </tr>\n",
       "    <tr>\n",
       "      <th>4347</th>\n",
       "      <td>FAMILY</td>\n",
       "      <td>5.0</td>\n",
       "      <td>2375336</td>\n",
       "      <td>10000000</td>\n",
       "      <td>Paid</td>\n",
       "      <td>7</td>\n",
       "      <td>Everyone</td>\n",
       "      <td>Arcade;Action &amp; Adventure</td>\n",
       "      <td>2018</td>\n",
       "      <td>70000000</td>\n",
       "      <td>0</td>\n",
       "      <td>1</td>\n",
       "      <td>1</td>\n",
       "    </tr>\n",
       "  </tbody>\n",
       "</table>\n",
       "</div>"
      ],
      "text/plain": [
       "     Category  Rating  Reviews  Installs  Type  Price ContentRating  \\\n",
       "2241   FAMILY     5.0  2376564  10000000  Paid      7      Everyone   \n",
       "4347   FAMILY     5.0  2375336  10000000  Paid      7      Everyone   \n",
       "\n",
       "                         Genres  Annualupdate   profits  cate  contrating  \\\n",
       "2241  Arcade;Action & Adventure          2018  70000000     0           1   \n",
       "4347  Arcade;Action & Adventure          2018  70000000     0           1   \n",
       "\n",
       "      PFtype  \n",
       "2241       1  \n",
       "4347       1  "
      ]
     },
     "execution_count": 41,
     "metadata": {},
     "output_type": "execute_result"
    }
   ],
   "source": [
    "df[df['profits'] == df['profits'].max()]"
   ]
  },
  {
   "cell_type": "code",
   "execution_count": 42,
   "id": "93f9dc8c",
   "metadata": {},
   "outputs": [
    {
     "data": {
      "text/html": [
       "<div>\n",
       "<style scoped>\n",
       "    .dataframe tbody tr th:only-of-type {\n",
       "        vertical-align: middle;\n",
       "    }\n",
       "\n",
       "    .dataframe tbody tr th {\n",
       "        vertical-align: top;\n",
       "    }\n",
       "\n",
       "    .dataframe thead th {\n",
       "        text-align: right;\n",
       "    }\n",
       "</style>\n",
       "<table border=\"1\" class=\"dataframe\">\n",
       "  <thead>\n",
       "    <tr style=\"text-align: right;\">\n",
       "      <th></th>\n",
       "      <th>Category</th>\n",
       "      <th>Rating</th>\n",
       "      <th>Reviews</th>\n",
       "      <th>Installs</th>\n",
       "      <th>Type</th>\n",
       "      <th>Price</th>\n",
       "      <th>ContentRating</th>\n",
       "      <th>Genres</th>\n",
       "      <th>Annualupdate</th>\n",
       "      <th>profits</th>\n",
       "      <th>cate</th>\n",
       "      <th>contrating</th>\n",
       "      <th>PFtype</th>\n",
       "    </tr>\n",
       "  </thead>\n",
       "  <tbody>\n",
       "    <tr>\n",
       "      <th>2544</th>\n",
       "      <td>SOCIAL</td>\n",
       "      <td>4.0</td>\n",
       "      <td>78158306</td>\n",
       "      <td>1000000000</td>\n",
       "      <td>Free</td>\n",
       "      <td>0</td>\n",
       "      <td>Teen</td>\n",
       "      <td>Social</td>\n",
       "      <td>2018</td>\n",
       "      <td>0</td>\n",
       "      <td>13</td>\n",
       "      <td>2</td>\n",
       "      <td>0</td>\n",
       "    </tr>\n",
       "  </tbody>\n",
       "</table>\n",
       "</div>"
      ],
      "text/plain": [
       "     Category  Rating   Reviews    Installs  Type  Price ContentRating  \\\n",
       "2544   SOCIAL     4.0  78158306  1000000000  Free      0          Teen   \n",
       "\n",
       "      Genres  Annualupdate  profits  cate  contrating  PFtype  \n",
       "2544  Social          2018        0    13           2       0  "
      ]
     },
     "execution_count": 42,
     "metadata": {},
     "output_type": "execute_result"
    }
   ],
   "source": [
    "df[df['Reviews'] == df['Reviews'].max()]"
   ]
  },
  {
   "cell_type": "code",
   "execution_count": 43,
   "id": "a6226c6d",
   "metadata": {},
   "outputs": [
    {
     "data": {
      "text/html": [
       "<div>\n",
       "<style scoped>\n",
       "    .dataframe tbody tr th:only-of-type {\n",
       "        vertical-align: middle;\n",
       "    }\n",
       "\n",
       "    .dataframe tbody tr th {\n",
       "        vertical-align: top;\n",
       "    }\n",
       "\n",
       "    .dataframe thead th {\n",
       "        text-align: right;\n",
       "    }\n",
       "</style>\n",
       "<table border=\"1\" class=\"dataframe\">\n",
       "  <thead>\n",
       "    <tr style=\"text-align: right;\">\n",
       "      <th></th>\n",
       "      <th>contrating</th>\n",
       "    </tr>\n",
       "    <tr>\n",
       "      <th>Category</th>\n",
       "      <th></th>\n",
       "    </tr>\n",
       "  </thead>\n",
       "  <tbody>\n",
       "    <tr>\n",
       "      <th>ART_AND_DESIGN</th>\n",
       "      <td>2</td>\n",
       "    </tr>\n",
       "    <tr>\n",
       "      <th>AUTO_AND_VEHICLES</th>\n",
       "      <td>2</td>\n",
       "    </tr>\n",
       "    <tr>\n",
       "      <th>BEAUTY</th>\n",
       "      <td>3</td>\n",
       "    </tr>\n",
       "    <tr>\n",
       "      <th>BOOKS_AND_REFERENCE</th>\n",
       "      <td>3</td>\n",
       "    </tr>\n",
       "    <tr>\n",
       "      <th>BUSINESS</th>\n",
       "      <td>2</td>\n",
       "    </tr>\n",
       "    <tr>\n",
       "      <th>COMICS</th>\n",
       "      <td>4</td>\n",
       "    </tr>\n",
       "    <tr>\n",
       "      <th>COMMUNICATION</th>\n",
       "      <td>3</td>\n",
       "    </tr>\n",
       "    <tr>\n",
       "      <th>DATING</th>\n",
       "      <td>3</td>\n",
       "    </tr>\n",
       "    <tr>\n",
       "      <th>EDUCATION</th>\n",
       "      <td>3</td>\n",
       "    </tr>\n",
       "    <tr>\n",
       "      <th>ENTERTAINMENT</th>\n",
       "      <td>3</td>\n",
       "    </tr>\n",
       "    <tr>\n",
       "      <th>EVENTS</th>\n",
       "      <td>2</td>\n",
       "    </tr>\n",
       "    <tr>\n",
       "      <th>FAMILY</th>\n",
       "      <td>3</td>\n",
       "    </tr>\n",
       "    <tr>\n",
       "      <th>FINANCE</th>\n",
       "      <td>2</td>\n",
       "    </tr>\n",
       "    <tr>\n",
       "      <th>FOOD_AND_DRINK</th>\n",
       "      <td>2</td>\n",
       "    </tr>\n",
       "    <tr>\n",
       "      <th>GAME</th>\n",
       "      <td>3</td>\n",
       "    </tr>\n",
       "    <tr>\n",
       "      <th>HEALTH_AND_FITNESS</th>\n",
       "      <td>3</td>\n",
       "    </tr>\n",
       "    <tr>\n",
       "      <th>HOUSE_AND_HOME</th>\n",
       "      <td>2</td>\n",
       "    </tr>\n",
       "    <tr>\n",
       "      <th>LIBRARIES_AND_DEMO</th>\n",
       "      <td>1</td>\n",
       "    </tr>\n",
       "    <tr>\n",
       "      <th>LIFESTYLE</th>\n",
       "      <td>3</td>\n",
       "    </tr>\n",
       "    <tr>\n",
       "      <th>MAPS_AND_NAVIGATION</th>\n",
       "      <td>3</td>\n",
       "    </tr>\n",
       "    <tr>\n",
       "      <th>MEDICAL</th>\n",
       "      <td>3</td>\n",
       "    </tr>\n",
       "    <tr>\n",
       "      <th>NEWS_AND_MAGAZINES</th>\n",
       "      <td>3</td>\n",
       "    </tr>\n",
       "    <tr>\n",
       "      <th>PARENTING</th>\n",
       "      <td>3</td>\n",
       "    </tr>\n",
       "    <tr>\n",
       "      <th>PERSONALIZATION</th>\n",
       "      <td>3</td>\n",
       "    </tr>\n",
       "    <tr>\n",
       "      <th>PHOTOGRAPHY</th>\n",
       "      <td>3</td>\n",
       "    </tr>\n",
       "    <tr>\n",
       "      <th>PRODUCTIVITY</th>\n",
       "      <td>3</td>\n",
       "    </tr>\n",
       "    <tr>\n",
       "      <th>SHOPPING</th>\n",
       "      <td>3</td>\n",
       "    </tr>\n",
       "    <tr>\n",
       "      <th>SOCIAL</th>\n",
       "      <td>3</td>\n",
       "    </tr>\n",
       "    <tr>\n",
       "      <th>SPORTS</th>\n",
       "      <td>4</td>\n",
       "    </tr>\n",
       "    <tr>\n",
       "      <th>TOOLS</th>\n",
       "      <td>5</td>\n",
       "    </tr>\n",
       "    <tr>\n",
       "      <th>TRAVEL_AND_LOCAL</th>\n",
       "      <td>3</td>\n",
       "    </tr>\n",
       "    <tr>\n",
       "      <th>VIDEO_PLAYERS</th>\n",
       "      <td>3</td>\n",
       "    </tr>\n",
       "    <tr>\n",
       "      <th>WEATHER</th>\n",
       "      <td>3</td>\n",
       "    </tr>\n",
       "  </tbody>\n",
       "</table>\n",
       "</div>"
      ],
      "text/plain": [
       "                     contrating\n",
       "Category                       \n",
       "ART_AND_DESIGN                2\n",
       "AUTO_AND_VEHICLES             2\n",
       "BEAUTY                        3\n",
       "BOOKS_AND_REFERENCE           3\n",
       "BUSINESS                      2\n",
       "COMICS                        4\n",
       "COMMUNICATION                 3\n",
       "DATING                        3\n",
       "EDUCATION                     3\n",
       "ENTERTAINMENT                 3\n",
       "EVENTS                        2\n",
       "FAMILY                        3\n",
       "FINANCE                       2\n",
       "FOOD_AND_DRINK                2\n",
       "GAME                          3\n",
       "HEALTH_AND_FITNESS            3\n",
       "HOUSE_AND_HOME                2\n",
       "LIBRARIES_AND_DEMO            1\n",
       "LIFESTYLE                     3\n",
       "MAPS_AND_NAVIGATION           3\n",
       "MEDICAL                       3\n",
       "NEWS_AND_MAGAZINES            3\n",
       "PARENTING                     3\n",
       "PERSONALIZATION               3\n",
       "PHOTOGRAPHY                   3\n",
       "PRODUCTIVITY                  3\n",
       "SHOPPING                      3\n",
       "SOCIAL                        3\n",
       "SPORTS                        4\n",
       "TOOLS                         5\n",
       "TRAVEL_AND_LOCAL              3\n",
       "VIDEO_PLAYERS                 3\n",
       "WEATHER                       3"
      ]
     },
     "execution_count": 43,
     "metadata": {},
     "output_type": "execute_result"
    }
   ],
   "source": [
    "df.groupby('Category')[['contrating']].max()"
   ]
  },
  {
   "cell_type": "code",
   "execution_count": 44,
   "id": "d7fc7987",
   "metadata": {},
   "outputs": [
    {
     "data": {
      "text/html": [
       "<div>\n",
       "<style scoped>\n",
       "    .dataframe tbody tr th:only-of-type {\n",
       "        vertical-align: middle;\n",
       "    }\n",
       "\n",
       "    .dataframe tbody tr th {\n",
       "        vertical-align: top;\n",
       "    }\n",
       "\n",
       "    .dataframe thead th {\n",
       "        text-align: right;\n",
       "    }\n",
       "</style>\n",
       "<table border=\"1\" class=\"dataframe\">\n",
       "  <thead>\n",
       "    <tr style=\"text-align: right;\">\n",
       "      <th></th>\n",
       "      <th>Rating</th>\n",
       "    </tr>\n",
       "    <tr>\n",
       "      <th>Category</th>\n",
       "      <th></th>\n",
       "    </tr>\n",
       "  </thead>\n",
       "  <tbody>\n",
       "    <tr>\n",
       "      <th>ART_AND_DESIGN</th>\n",
       "      <td>4.387097</td>\n",
       "    </tr>\n",
       "    <tr>\n",
       "      <th>AUTO_AND_VEHICLES</th>\n",
       "      <td>4.263889</td>\n",
       "    </tr>\n",
       "    <tr>\n",
       "      <th>BEAUTY</th>\n",
       "      <td>4.357143</td>\n",
       "    </tr>\n",
       "    <tr>\n",
       "      <th>BOOKS_AND_REFERENCE</th>\n",
       "      <td>4.448864</td>\n",
       "    </tr>\n",
       "    <tr>\n",
       "      <th>BUSINESS</th>\n",
       "      <td>4.097744</td>\n",
       "    </tr>\n",
       "    <tr>\n",
       "      <th>COMICS</th>\n",
       "      <td>4.206897</td>\n",
       "    </tr>\n",
       "    <tr>\n",
       "      <th>COMMUNICATION</th>\n",
       "      <td>4.081433</td>\n",
       "    </tr>\n",
       "    <tr>\n",
       "      <th>DATING</th>\n",
       "      <td>3.974522</td>\n",
       "    </tr>\n",
       "    <tr>\n",
       "      <th>EDUCATION</th>\n",
       "      <td>4.410853</td>\n",
       "    </tr>\n",
       "    <tr>\n",
       "      <th>ENTERTAINMENT</th>\n",
       "      <td>4.127273</td>\n",
       "    </tr>\n",
       "    <tr>\n",
       "      <th>EVENTS</th>\n",
       "      <td>4.511111</td>\n",
       "    </tr>\n",
       "    <tr>\n",
       "      <th>FAMILY</th>\n",
       "      <td>4.223592</td>\n",
       "    </tr>\n",
       "    <tr>\n",
       "      <th>FINANCE</th>\n",
       "      <td>4.172524</td>\n",
       "    </tr>\n",
       "    <tr>\n",
       "      <th>FOOD_AND_DRINK</th>\n",
       "      <td>4.254717</td>\n",
       "    </tr>\n",
       "    <tr>\n",
       "      <th>GAME</th>\n",
       "      <td>4.311277</td>\n",
       "    </tr>\n",
       "    <tr>\n",
       "      <th>HEALTH_AND_FITNESS</th>\n",
       "      <td>4.374046</td>\n",
       "    </tr>\n",
       "    <tr>\n",
       "      <th>HOUSE_AND_HOME</th>\n",
       "      <td>4.205882</td>\n",
       "    </tr>\n",
       "    <tr>\n",
       "      <th>LIBRARIES_AND_DEMO</th>\n",
       "      <td>4.190476</td>\n",
       "    </tr>\n",
       "    <tr>\n",
       "      <th>LIFESTYLE</th>\n",
       "      <td>4.151007</td>\n",
       "    </tr>\n",
       "    <tr>\n",
       "      <th>MAPS_AND_NAVIGATION</th>\n",
       "      <td>4.048780</td>\n",
       "    </tr>\n",
       "    <tr>\n",
       "      <th>MEDICAL</th>\n",
       "      <td>4.232082</td>\n",
       "    </tr>\n",
       "    <tr>\n",
       "      <th>NEWS_AND_MAGAZINES</th>\n",
       "      <td>4.183962</td>\n",
       "    </tr>\n",
       "    <tr>\n",
       "      <th>PARENTING</th>\n",
       "      <td>4.400000</td>\n",
       "    </tr>\n",
       "    <tr>\n",
       "      <th>PERSONALIZATION</th>\n",
       "      <td>4.372549</td>\n",
       "    </tr>\n",
       "    <tr>\n",
       "      <th>PHOTOGRAPHY</th>\n",
       "      <td>4.180921</td>\n",
       "    </tr>\n",
       "    <tr>\n",
       "      <th>PRODUCTIVITY</th>\n",
       "      <td>4.220544</td>\n",
       "    </tr>\n",
       "    <tr>\n",
       "      <th>SHOPPING</th>\n",
       "      <td>4.280000</td>\n",
       "    </tr>\n",
       "    <tr>\n",
       "      <th>SOCIAL</th>\n",
       "      <td>4.245902</td>\n",
       "    </tr>\n",
       "    <tr>\n",
       "      <th>SPORTS</th>\n",
       "      <td>4.249123</td>\n",
       "    </tr>\n",
       "    <tr>\n",
       "      <th>TOOLS</th>\n",
       "      <td>4.064828</td>\n",
       "    </tr>\n",
       "    <tr>\n",
       "      <th>TRAVEL_AND_LOCAL</th>\n",
       "      <td>4.053659</td>\n",
       "    </tr>\n",
       "    <tr>\n",
       "      <th>VIDEO_PLAYERS</th>\n",
       "      <td>4.081250</td>\n",
       "    </tr>\n",
       "    <tr>\n",
       "      <th>WEATHER</th>\n",
       "      <td>4.280000</td>\n",
       "    </tr>\n",
       "  </tbody>\n",
       "</table>\n",
       "</div>"
      ],
      "text/plain": [
       "                       Rating\n",
       "Category                     \n",
       "ART_AND_DESIGN       4.387097\n",
       "AUTO_AND_VEHICLES    4.263889\n",
       "BEAUTY               4.357143\n",
       "BOOKS_AND_REFERENCE  4.448864\n",
       "BUSINESS             4.097744\n",
       "COMICS               4.206897\n",
       "COMMUNICATION        4.081433\n",
       "DATING               3.974522\n",
       "EDUCATION            4.410853\n",
       "ENTERTAINMENT        4.127273\n",
       "EVENTS               4.511111\n",
       "FAMILY               4.223592\n",
       "FINANCE              4.172524\n",
       "FOOD_AND_DRINK       4.254717\n",
       "GAME                 4.311277\n",
       "HEALTH_AND_FITNESS   4.374046\n",
       "HOUSE_AND_HOME       4.205882\n",
       "LIBRARIES_AND_DEMO   4.190476\n",
       "LIFESTYLE            4.151007\n",
       "MAPS_AND_NAVIGATION  4.048780\n",
       "MEDICAL              4.232082\n",
       "NEWS_AND_MAGAZINES   4.183962\n",
       "PARENTING            4.400000\n",
       "PERSONALIZATION      4.372549\n",
       "PHOTOGRAPHY          4.180921\n",
       "PRODUCTIVITY         4.220544\n",
       "SHOPPING             4.280000\n",
       "SOCIAL               4.245902\n",
       "SPORTS               4.249123\n",
       "TOOLS                4.064828\n",
       "TRAVEL_AND_LOCAL     4.053659\n",
       "VIDEO_PLAYERS        4.081250\n",
       "WEATHER              4.280000"
      ]
     },
     "execution_count": 44,
     "metadata": {},
     "output_type": "execute_result"
    }
   ],
   "source": [
    "df.groupby('Category')[['Rating']].mean()"
   ]
  },
  {
   "cell_type": "code",
   "execution_count": 45,
   "id": "1f6f156a",
   "metadata": {},
   "outputs": [
    {
     "data": {
      "text/html": [
       "<div>\n",
       "<style scoped>\n",
       "    .dataframe tbody tr th:only-of-type {\n",
       "        vertical-align: middle;\n",
       "    }\n",
       "\n",
       "    .dataframe tbody tr th {\n",
       "        vertical-align: top;\n",
       "    }\n",
       "\n",
       "    .dataframe thead th {\n",
       "        text-align: right;\n",
       "    }\n",
       "</style>\n",
       "<table border=\"1\" class=\"dataframe\">\n",
       "  <thead>\n",
       "    <tr style=\"text-align: right;\">\n",
       "      <th></th>\n",
       "      <th>Installs</th>\n",
       "    </tr>\n",
       "    <tr>\n",
       "      <th>Category</th>\n",
       "      <th></th>\n",
       "    </tr>\n",
       "  </thead>\n",
       "  <tbody>\n",
       "    <tr>\n",
       "      <th>ART_AND_DESIGN</th>\n",
       "      <td>50000000</td>\n",
       "    </tr>\n",
       "    <tr>\n",
       "      <th>AUTO_AND_VEHICLES</th>\n",
       "      <td>10000000</td>\n",
       "    </tr>\n",
       "    <tr>\n",
       "      <th>BEAUTY</th>\n",
       "      <td>10000000</td>\n",
       "    </tr>\n",
       "    <tr>\n",
       "      <th>BOOKS_AND_REFERENCE</th>\n",
       "      <td>1000000000</td>\n",
       "    </tr>\n",
       "    <tr>\n",
       "      <th>BUSINESS</th>\n",
       "      <td>100000000</td>\n",
       "    </tr>\n",
       "    <tr>\n",
       "      <th>COMICS</th>\n",
       "      <td>10000000</td>\n",
       "    </tr>\n",
       "    <tr>\n",
       "      <th>COMMUNICATION</th>\n",
       "      <td>1000000000</td>\n",
       "    </tr>\n",
       "    <tr>\n",
       "      <th>DATING</th>\n",
       "      <td>10000000</td>\n",
       "    </tr>\n",
       "    <tr>\n",
       "      <th>EDUCATION</th>\n",
       "      <td>100000000</td>\n",
       "    </tr>\n",
       "    <tr>\n",
       "      <th>ENTERTAINMENT</th>\n",
       "      <td>1000000000</td>\n",
       "    </tr>\n",
       "    <tr>\n",
       "      <th>EVENTS</th>\n",
       "      <td>5000000</td>\n",
       "    </tr>\n",
       "    <tr>\n",
       "      <th>FAMILY</th>\n",
       "      <td>1000000000</td>\n",
       "    </tr>\n",
       "    <tr>\n",
       "      <th>FINANCE</th>\n",
       "      <td>100000000</td>\n",
       "    </tr>\n",
       "    <tr>\n",
       "      <th>FOOD_AND_DRINK</th>\n",
       "      <td>10000000</td>\n",
       "    </tr>\n",
       "    <tr>\n",
       "      <th>GAME</th>\n",
       "      <td>1000000000</td>\n",
       "    </tr>\n",
       "    <tr>\n",
       "      <th>HEALTH_AND_FITNESS</th>\n",
       "      <td>500000000</td>\n",
       "    </tr>\n",
       "    <tr>\n",
       "      <th>HOUSE_AND_HOME</th>\n",
       "      <td>10000000</td>\n",
       "    </tr>\n",
       "    <tr>\n",
       "      <th>LIBRARIES_AND_DEMO</th>\n",
       "      <td>10000000</td>\n",
       "    </tr>\n",
       "    <tr>\n",
       "      <th>LIFESTYLE</th>\n",
       "      <td>100000000</td>\n",
       "    </tr>\n",
       "    <tr>\n",
       "      <th>MAPS_AND_NAVIGATION</th>\n",
       "      <td>100000000</td>\n",
       "    </tr>\n",
       "    <tr>\n",
       "      <th>MEDICAL</th>\n",
       "      <td>5000000</td>\n",
       "    </tr>\n",
       "    <tr>\n",
       "      <th>NEWS_AND_MAGAZINES</th>\n",
       "      <td>1000000000</td>\n",
       "    </tr>\n",
       "    <tr>\n",
       "      <th>PARENTING</th>\n",
       "      <td>10000000</td>\n",
       "    </tr>\n",
       "    <tr>\n",
       "      <th>PERSONALIZATION</th>\n",
       "      <td>100000000</td>\n",
       "    </tr>\n",
       "    <tr>\n",
       "      <th>PHOTOGRAPHY</th>\n",
       "      <td>1000000000</td>\n",
       "    </tr>\n",
       "    <tr>\n",
       "      <th>PRODUCTIVITY</th>\n",
       "      <td>1000000000</td>\n",
       "    </tr>\n",
       "    <tr>\n",
       "      <th>SHOPPING</th>\n",
       "      <td>100000000</td>\n",
       "    </tr>\n",
       "    <tr>\n",
       "      <th>SOCIAL</th>\n",
       "      <td>1000000000</td>\n",
       "    </tr>\n",
       "    <tr>\n",
       "      <th>SPORTS</th>\n",
       "      <td>100000000</td>\n",
       "    </tr>\n",
       "    <tr>\n",
       "      <th>TOOLS</th>\n",
       "      <td>1000000000</td>\n",
       "    </tr>\n",
       "    <tr>\n",
       "      <th>TRAVEL_AND_LOCAL</th>\n",
       "      <td>1000000000</td>\n",
       "    </tr>\n",
       "    <tr>\n",
       "      <th>VIDEO_PLAYERS</th>\n",
       "      <td>1000000000</td>\n",
       "    </tr>\n",
       "    <tr>\n",
       "      <th>WEATHER</th>\n",
       "      <td>50000000</td>\n",
       "    </tr>\n",
       "  </tbody>\n",
       "</table>\n",
       "</div>"
      ],
      "text/plain": [
       "                       Installs\n",
       "Category                       \n",
       "ART_AND_DESIGN         50000000\n",
       "AUTO_AND_VEHICLES      10000000\n",
       "BEAUTY                 10000000\n",
       "BOOKS_AND_REFERENCE  1000000000\n",
       "BUSINESS              100000000\n",
       "COMICS                 10000000\n",
       "COMMUNICATION        1000000000\n",
       "DATING                 10000000\n",
       "EDUCATION             100000000\n",
       "ENTERTAINMENT        1000000000\n",
       "EVENTS                  5000000\n",
       "FAMILY               1000000000\n",
       "FINANCE               100000000\n",
       "FOOD_AND_DRINK         10000000\n",
       "GAME                 1000000000\n",
       "HEALTH_AND_FITNESS    500000000\n",
       "HOUSE_AND_HOME         10000000\n",
       "LIBRARIES_AND_DEMO     10000000\n",
       "LIFESTYLE             100000000\n",
       "MAPS_AND_NAVIGATION   100000000\n",
       "MEDICAL                 5000000\n",
       "NEWS_AND_MAGAZINES   1000000000\n",
       "PARENTING              10000000\n",
       "PERSONALIZATION       100000000\n",
       "PHOTOGRAPHY          1000000000\n",
       "PRODUCTIVITY         1000000000\n",
       "SHOPPING              100000000\n",
       "SOCIAL               1000000000\n",
       "SPORTS                100000000\n",
       "TOOLS                1000000000\n",
       "TRAVEL_AND_LOCAL     1000000000\n",
       "VIDEO_PLAYERS        1000000000\n",
       "WEATHER                50000000"
      ]
     },
     "execution_count": 45,
     "metadata": {},
     "output_type": "execute_result"
    }
   ],
   "source": [
    "df.groupby('Category')[['Installs']].max()"
   ]
  },
  {
   "cell_type": "markdown",
   "id": "59ccda22",
   "metadata": {},
   "source": [
    "# visualization of data"
   ]
  },
  {
   "cell_type": "code",
   "execution_count": 46,
   "id": "3eca0617",
   "metadata": {},
   "outputs": [
    {
     "data": {
      "image/png": "[encoded data removed]",
      "text/plain": [
       "<Figure size 720x432 with 1 Axes>"
      ]
     },
     "metadata": {},
     "output_type": "display_data"
    }
   ],
   "source": [
    "fig, ax = plt.subplots(figsize=(10, 6))\n",
    "# Specify how our lines should look\n",
    "x = [Vtype for Vtype in set( df['Rating'] )]\n",
    "y = [ df['Rating'].where(df['Rating']==Vtype).count() for Vtype in set( df['Rating']) ]\n",
    "ax.bar(x, y,width=0.6)\n",
    "# Same as above\n",
    "#fontsize = 10, va='bottom', ha='left'\n",
    "ax.set_ylabel('count of the apps')\n",
    "ax.set_xlabel('rating')\n",
    "ax.set_title('count of games by rating');"
   ]
  },
  {
   "cell_type": "code",
   "execution_count": 47,
   "id": "4f4fde23",
   "metadata": {},
   "outputs": [
    {
     "name": "stderr",
     "output_type": "stream",
     "text": [
      "C:\\ProgramData\\Anaconda3\\lib\\site-packages\\seaborn\\_decorators.py:36: FutureWarning: Pass the following variable as a keyword arg: x. From version 0.12, the only valid positional argument will be `data`, and passing other arguments without an explicit keyword will result in an error or misinterpretation.\n",
      "  warnings.warn(\n"
     ]
    },
    {
     "data": {
      "text/plain": [
       "<AxesSubplot:xlabel='Rating', ylabel='count'>"
      ]
     },
     "execution_count": 47,
     "metadata": {},
     "output_type": "execute_result"
    },
    {
     "data": {
      "image/png": "[encoded data removed]",
      "text/plain": [
       "<Figure size 432x288 with 1 Axes>"
      ]
     },
     "metadata": {},
     "output_type": "display_data"
    }
   ],
   "source": [
    "sns.set_style('darkgrid')\n",
    "sns.countplot(df.Rating,hue='Type', data=df,palette = 'Pastel2')"
   ]
  },
  {
   "cell_type": "code",
   "execution_count": 48,
   "id": "c4d6c8ce",
   "metadata": {},
   "outputs": [
    {
     "data": {
      "image/png": "[encoded data removed]",
      "text/plain": [
       "<Figure size 720x288 with 1 Axes>"
      ]
     },
     "metadata": {},
     "output_type": "display_data"
    }
   ],
   "source": [
    "plt.figure(figsize=(10,4))\n",
    "sns.set_style('darkgrid')\n",
    "sns.countplot( x = 'cate', data = df, palette = 'Pastel2',hue='Type');"
   ]
  },
  {
   "cell_type": "code",
   "execution_count": 49,
   "id": "6f57b272",
   "metadata": {},
   "outputs": [
    {
     "data": {
      "image/png": "[encoded data removed]",
      "text/plain": [
       "<Figure size 1080x288 with 1 Axes>"
      ]
     },
     "metadata": {},
     "output_type": "display_data"
    }
   ],
   "source": [
    "\n",
    "plt.figure(figsize=(15,4))\n",
    "sns.set_style('darkgrid')\n",
    "sns.countplot( x ='cate',hue='contrating', data = df );"
   ]
  },
  {
   "cell_type": "code",
   "execution_count": 50,
   "id": "5e8d3f57",
   "metadata": {},
   "outputs": [
    {
     "data": {
      "text/plain": [
       "<seaborn.axisgrid.PairGrid at 0x29e4b79ef10>"
      ]
     },
     "execution_count": 50,
     "metadata": {},
     "output_type": "execute_result"
    },
    {
     "data": {
      "image/png": "[encoded data removed]",
      "text/plain": [
       "<Figure size 1682.22x1620 with 90 Axes>"
      ]
     },
     "metadata": {},
     "output_type": "display_data"
    }
   ],
   "source": [
    "sns.pairplot(df,diag_kind='kde',hue='Type')"
   ]
  },
  {
   "cell_type": "code",
   "execution_count": 51,
   "id": "a114f4f8",
   "metadata": {},
   "outputs": [
    {
     "data": {
      "image/png": "[encoded data removed]",
      "text/plain": [
       "<Figure size 432x288 with 1 Axes>"
      ]
     },
     "metadata": {},
     "output_type": "display_data"
    }
   ],
   "source": [
    "sns.boxplot(x=df['Rating']).set(title='rating of tha games ', xlabel='rating');\n"
   ]
  },
  {
   "cell_type": "code",
   "execution_count": 52,
   "id": "617da2e0",
   "metadata": {},
   "outputs": [
    {
     "data": {
      "image/png": "[encoded data removed]",
      "text/plain": [
       "<Figure size 432x288 with 1 Axes>"
      ]
     },
     "metadata": {},
     "output_type": "display_data"
    }
   ],
   "source": [
    "sns.boxplot(x=df['Installs']).set(title='apps installing', xlabel='apps installation (1^9)');\n",
    "            \n",
    "#np.mean(df['Installs'])\n"
   ]
  },
  {
   "cell_type": "code",
   "execution_count": 53,
   "id": "ee049ff2",
   "metadata": {},
   "outputs": [
    {
     "data": {
      "image/png": "[encoded data removed]",
      "text/plain": [
       "<Figure size 1008x576 with 1 Axes>"
      ]
     },
     "metadata": {},
     "output_type": "display_data"
    }
   ],
   "source": [
    "#plot the bar graph of percentage Category categories\n",
    "plt.figure(figsize=[14,8])\n",
    "df.Category.value_counts(normalize=True).plot.barh()\n",
    "plt.title('percentage of apps by categories')\n",
    "plt.show()"
   ]
  },
  {
   "cell_type": "code",
   "execution_count": 54,
   "id": "52244469",
   "metadata": {},
   "outputs": [
    {
     "data": {
      "text/plain": [
       "FAMILY                 0.193110\n",
       "GAME                   0.121600\n",
       "TOOLS                  0.082162\n",
       "PRODUCTIVITY           0.037511\n",
       "FINANCE                0.035471\n",
       "COMMUNICATION          0.034791\n",
       "PERSONALIZATION        0.034678\n",
       "PHOTOGRAPHY            0.034451\n",
       "LIFESTYLE              0.033772\n",
       "MEDICAL                0.033205\n",
       "SPORTS                 0.032298\n",
       "BUSINESS               0.030145\n",
       "HEALTH_AND_FITNESS     0.029692\n",
       "SOCIAL                 0.027652\n",
       "NEWS_AND_MAGAZINES     0.024025\n",
       "TRAVEL_AND_LOCAL       0.023232\n",
       "SHOPPING               0.022665\n",
       "BOOKS_AND_REFERENCE    0.019946\n",
       "VIDEO_PLAYERS          0.018132\n",
       "DATING                 0.017792\n",
       "EDUCATION              0.014619\n",
       "MAPS_AND_NAVIGATION    0.013939\n",
       "ENTERTAINMENT          0.012466\n",
       "FOOD_AND_DRINK         0.012013\n",
       "WEATHER                0.008500\n",
       "AUTO_AND_VEHICLES      0.008160\n",
       "HOUSE_AND_HOME         0.007706\n",
       "LIBRARIES_AND_DEMO     0.007140\n",
       "ART_AND_DESIGN         0.007026\n",
       "COMICS                 0.006573\n",
       "PARENTING              0.005666\n",
       "EVENTS                 0.005100\n",
       "BEAUTY                 0.004760\n",
       "Name: Category, dtype: float64"
      ]
     },
     "execution_count": 54,
     "metadata": {},
     "output_type": "execute_result"
    }
   ],
   "source": [
    "df.Category.value_counts(normalize=True)"
   ]
  },
  {
   "cell_type": "markdown",
   "id": "fb0ce6f6",
   "metadata": {},
   "source": [
    "#### count of games by the type of its content rating\n"
   ]
  },
  {
   "cell_type": "code",
   "execution_count": 55,
   "id": "c3541ccc",
   "metadata": {},
   "outputs": [
    {
     "data": {
      "image/png": "[encoded data removed]",
      "text/plain": [
       "<Figure size 432x288 with 1 Axes>"
      ]
     },
     "metadata": {},
     "output_type": "display_data"
    }
   ],
   "source": [
    "sns.set_style('darkgrid')\n",
    "sns.countplot( x = 'ContentRating', data = df, palette = 'Pastel2' );"
   ]
  },
  {
   "cell_type": "markdown",
   "id": "4d64d3fe",
   "metadata": {},
   "source": [
    "#### count of games by rating and type(Free/paid)"
   ]
  },
  {
   "cell_type": "code",
   "execution_count": 56,
   "id": "5cd9fa6d",
   "metadata": {},
   "outputs": [
    {
     "data": {
      "image/png": "[encoded data removed]",
      "text/plain": [
       "<Figure size 432x288 with 1 Axes>"
      ]
     },
     "metadata": {},
     "output_type": "display_data"
    }
   ],
   "source": [
    "sns.set_style('darkgrid')\n",
    "sns.countplot( x = 'Type', data = df, palette = 'Pastel2' );"
   ]
  },
  {
   "cell_type": "code",
   "execution_count": 57,
   "id": "b18361d0",
   "metadata": {},
   "outputs": [
    {
     "data": {
      "text/html": [
       "<style type=\"text/css\">\n",
       "#T_e5584_row0_col0, #T_e5584_row1_col1, #T_e5584_row2_col2, #T_e5584_row3_col3, #T_e5584_row4_col4, #T_e5584_row5_col5, #T_e5584_row6_col6, #T_e5584_row7_col7, #T_e5584_row8_col8 {\n",
       "  background-color: #08306b;\n",
       "  color: #f1f1f1;\n",
       "}\n",
       "#T_e5584_row0_col1 {\n",
       "  background-color: #e1edf8;\n",
       "  color: #000000;\n",
       "}\n",
       "#T_e5584_row0_col2, #T_e5584_row7_col1 {\n",
       "  background-color: #e8f1fa;\n",
       "  color: #000000;\n",
       "}\n",
       "#T_e5584_row0_col3, #T_e5584_row7_col0, #T_e5584_row7_col3 {\n",
       "  background-color: #f5fafe;\n",
       "  color: #000000;\n",
       "}\n",
       "#T_e5584_row0_col4, #T_e5584_row5_col8 {\n",
       "  background-color: #c6dbef;\n",
       "  color: #000000;\n",
       "}\n",
       "#T_e5584_row0_col5, #T_e5584_row1_col6, #T_e5584_row2_col0 {\n",
       "  background-color: #eff6fc;\n",
       "  color: #000000;\n",
       "}\n",
       "#T_e5584_row0_col6 {\n",
       "  background-color: #e4eff9;\n",
       "  color: #000000;\n",
       "}\n",
       "#T_e5584_row0_col7, #T_e5584_row3_col2, #T_e5584_row5_col7 {\n",
       "  background-color: #f0f6fd;\n",
       "  color: #000000;\n",
       "}\n",
       "#T_e5584_row0_col8 {\n",
       "  background-color: #d3e3f3;\n",
       "  color: #000000;\n",
       "}\n",
       "#T_e5584_row1_col0 {\n",
       "  background-color: #e7f0fa;\n",
       "  color: #000000;\n",
       "}\n",
       "#T_e5584_row1_col2, #T_e5584_row2_col1 {\n",
       "  background-color: #3b8bc2;\n",
       "  color: #f1f1f1;\n",
       "}\n",
       "#T_e5584_row1_col3, #T_e5584_row2_col3, #T_e5584_row2_col5 {\n",
       "  background-color: #f5f9fe;\n",
       "  color: #000000;\n",
       "}\n",
       "#T_e5584_row1_col4 {\n",
       "  background-color: #cee0f2;\n",
       "  color: #000000;\n",
       "}\n",
       "#T_e5584_row1_col5, #T_e5584_row4_col5, #T_e5584_row6_col0 {\n",
       "  background-color: #f2f8fd;\n",
       "  color: #000000;\n",
       "}\n",
       "#T_e5584_row1_col7, #T_e5584_row7_col2 {\n",
       "  background-color: #e9f2fa;\n",
       "  color: #000000;\n",
       "}\n",
       "#T_e5584_row1_col8 {\n",
       "  background-color: #e2edf8;\n",
       "  color: #000000;\n",
       "}\n",
       "#T_e5584_row2_col4 {\n",
       "  background-color: #ccdff1;\n",
       "  color: #000000;\n",
       "}\n",
       "#T_e5584_row2_col6 {\n",
       "  background-color: #ecf4fb;\n",
       "  color: #000000;\n",
       "}\n",
       "#T_e5584_row2_col7, #T_e5584_row5_col6, #T_e5584_row6_col8 {\n",
       "  background-color: #eaf3fb;\n",
       "  color: #000000;\n",
       "}\n",
       "#T_e5584_row2_col8, #T_e5584_row4_col7 {\n",
       "  background-color: #e3eef9;\n",
       "  color: #000000;\n",
       "}\n",
       "#T_e5584_row3_col0, #T_e5584_row4_col8, #T_e5584_row6_col1, #T_e5584_row6_col3, #T_e5584_row6_col5, #T_e5584_row8_col1, #T_e5584_row8_col2, #T_e5584_row8_col4, #T_e5584_row8_col6, #T_e5584_row8_col7 {\n",
       "  background-color: #f7fbff;\n",
       "  color: #000000;\n",
       "}\n",
       "#T_e5584_row3_col1, #T_e5584_row5_col0 {\n",
       "  background-color: #f1f7fd;\n",
       "  color: #000000;\n",
       "}\n",
       "#T_e5584_row3_col4, #T_e5584_row4_col0, #T_e5584_row7_col6 {\n",
       "  background-color: #dbe9f6;\n",
       "  color: #000000;\n",
       "}\n",
       "#T_e5584_row3_col5, #T_e5584_row5_col3 {\n",
       "  background-color: #cadef0;\n",
       "  color: #000000;\n",
       "}\n",
       "#T_e5584_row3_col6, #T_e5584_row8_col0 {\n",
       "  background-color: #ebf3fb;\n",
       "  color: #000000;\n",
       "}\n",
       "#T_e5584_row3_col7 {\n",
       "  background-color: #f2f7fd;\n",
       "  color: #000000;\n",
       "}\n",
       "#T_e5584_row3_col8 {\n",
       "  background-color: #add0e6;\n",
       "  color: #000000;\n",
       "}\n",
       "#T_e5584_row4_col1 {\n",
       "  background-color: #dfecf7;\n",
       "  color: #000000;\n",
       "}\n",
       "#T_e5584_row4_col2 {\n",
       "  background-color: #dceaf6;\n",
       "  color: #000000;\n",
       "}\n",
       "#T_e5584_row4_col3, #T_e5584_row6_col2 {\n",
       "  background-color: #f3f8fe;\n",
       "  color: #000000;\n",
       "}\n",
       "#T_e5584_row4_col6 {\n",
       "  background-color: #d0e2f2;\n",
       "  color: #000000;\n",
       "}\n",
       "#T_e5584_row5_col1, #T_e5584_row5_col2 {\n",
       "  background-color: #eef5fc;\n",
       "  color: #000000;\n",
       "}\n",
       "#T_e5584_row5_col4, #T_e5584_row8_col5 {\n",
       "  background-color: #dae8f6;\n",
       "  color: #000000;\n",
       "}\n",
       "#T_e5584_row6_col4 {\n",
       "  background-color: #c7dbef;\n",
       "  color: #000000;\n",
       "}\n",
       "#T_e5584_row6_col7, #T_e5584_row7_col8 {\n",
       "  background-color: #e3eef8;\n",
       "  color: #000000;\n",
       "}\n",
       "#T_e5584_row7_col4 {\n",
       "  background-color: #d1e2f3;\n",
       "  color: #000000;\n",
       "}\n",
       "#T_e5584_row7_col5 {\n",
       "  background-color: #f4f9fe;\n",
       "  color: #000000;\n",
       "}\n",
       "#T_e5584_row8_col3 {\n",
       "  background-color: #c9ddf0;\n",
       "  color: #000000;\n",
       "}\n",
       "</style>\n",
       "<table id=\"T_e5584_\">\n",
       "  <thead>\n",
       "    <tr>\n",
       "      <th class=\"blank level0\" >&nbsp;</th>\n",
       "      <th class=\"col_heading level0 col0\" >Rating</th>\n",
       "      <th class=\"col_heading level0 col1\" >Reviews</th>\n",
       "      <th class=\"col_heading level0 col2\" >Installs</th>\n",
       "      <th class=\"col_heading level0 col3\" >Price</th>\n",
       "      <th class=\"col_heading level0 col4\" >Annualupdate</th>\n",
       "      <th class=\"col_heading level0 col5\" >profits</th>\n",
       "      <th class=\"col_heading level0 col6\" >cate</th>\n",
       "      <th class=\"col_heading level0 col7\" >contrating</th>\n",
       "      <th class=\"col_heading level0 col8\" >PFtype</th>\n",
       "    </tr>\n",
       "  </thead>\n",
       "  <tbody>\n",
       "    <tr>\n",
       "      <th id=\"T_e5584_level0_row0\" class=\"row_heading level0 row0\" >Rating</th>\n",
       "      <td id=\"T_e5584_row0_col0\" class=\"data row0 col0\" >1.000000</td>\n",
       "      <td id=\"T_e5584_row0_col1\" class=\"data row0 col1\" >0.069630</td>\n",
       "      <td id=\"T_e5584_row0_col2\" class=\"data row0 col2\" >0.026940</td>\n",
       "      <td id=\"T_e5584_row0_col3\" class=\"data row0 col3\" >-0.014288</td>\n",
       "      <td id=\"T_e5584_row0_col4\" class=\"data row0 col4\" >0.128682</td>\n",
       "      <td id=\"T_e5584_row0_col5\" class=\"data row0 col5\" >0.021138</td>\n",
       "      <td id=\"T_e5584_row0_col6\" class=\"data row0 col6\" >0.011395</td>\n",
       "      <td id=\"T_e5584_row0_col7\" class=\"data row0 col7\" >-0.006209</td>\n",
       "      <td id=\"T_e5584_row0_col8\" class=\"data row0 col8\" >0.048708</td>\n",
       "    </tr>\n",
       "    <tr>\n",
       "      <th id=\"T_e5584_level0_row1\" class=\"row_heading level0 row1\" >Reviews</th>\n",
       "      <td id=\"T_e5584_row1_col0\" class=\"data row1 col0\" >0.069630</td>\n",
       "      <td id=\"T_e5584_row1_col1\" class=\"data row1 col1\" >1.000000</td>\n",
       "      <td id=\"T_e5584_row1_col2\" class=\"data row1 col2\" >0.633345</td>\n",
       "      <td id=\"T_e5584_row1_col3\" class=\"data row1 col3\" >-0.009599</td>\n",
       "      <td id=\"T_e5584_row1_col4\" class=\"data row1 col4\" >0.079310</td>\n",
       "      <td id=\"T_e5584_row1_col5\" class=\"data row1 col5\" >0.005601</td>\n",
       "      <td id=\"T_e5584_row1_col6\" class=\"data row1 col6\" >-0.045897</td>\n",
       "      <td id=\"T_e5584_row1_col7\" class=\"data row1 col7\" >0.031900</td>\n",
       "      <td id=\"T_e5584_row1_col8\" class=\"data row1 col8\" >-0.043130</td>\n",
       "    </tr>\n",
       "    <tr>\n",
       "      <th id=\"T_e5584_level0_row2\" class=\"row_heading level0 row2\" >Installs</th>\n",
       "      <td id=\"T_e5584_row2_col0\" class=\"data row2 col0\" >0.026940</td>\n",
       "      <td id=\"T_e5584_row2_col1\" class=\"data row2 col1\" >0.633345</td>\n",
       "      <td id=\"T_e5584_row2_col2\" class=\"data row2 col2\" >1.000000</td>\n",
       "      <td id=\"T_e5584_row2_col3\" class=\"data row2 col3\" >-0.011376</td>\n",
       "      <td id=\"T_e5584_row2_col4\" class=\"data row2 col4\" >0.091507</td>\n",
       "      <td id=\"T_e5584_row2_col5\" class=\"data row2 col5\" >-0.005013</td>\n",
       "      <td id=\"T_e5584_row2_col6\" class=\"data row2 col6\" >-0.030663</td>\n",
       "      <td id=\"T_e5584_row2_col7\" class=\"data row2 col7\" >0.022311</td>\n",
       "      <td id=\"T_e5584_row2_col8\" class=\"data row2 col8\" >-0.051870</td>\n",
       "    </tr>\n",
       "    <tr>\n",
       "      <th id=\"T_e5584_level0_row3\" class=\"row_heading level0 row3\" >Price</th>\n",
       "      <td id=\"T_e5584_row3_col0\" class=\"data row3 col0\" >-0.014288</td>\n",
       "      <td id=\"T_e5584_row3_col1\" class=\"data row3 col1\" >-0.009599</td>\n",
       "      <td id=\"T_e5584_row3_col2\" class=\"data row3 col2\" >-0.011376</td>\n",
       "      <td id=\"T_e5584_row3_col3\" class=\"data row3 col3\" >1.000000</td>\n",
       "      <td id=\"T_e5584_row3_col4\" class=\"data row3 col4\" >-0.000643</td>\n",
       "      <td id=\"T_e5584_row3_col5\" class=\"data row3 col5\" >0.211175</td>\n",
       "      <td id=\"T_e5584_row3_col6\" class=\"data row3 col6\" >-0.023765</td>\n",
       "      <td id=\"T_e5584_row3_col7\" class=\"data row3 col7\" >-0.013124</td>\n",
       "      <td id=\"T_e5584_row3_col8\" class=\"data row3 col8\" >0.218389</td>\n",
       "    </tr>\n",
       "    <tr>\n",
       "      <th id=\"T_e5584_level0_row4\" class=\"row_heading level0 row4\" >Annualupdate</th>\n",
       "      <td id=\"T_e5584_row4_col0\" class=\"data row4 col0\" >0.128682</td>\n",
       "      <td id=\"T_e5584_row4_col1\" class=\"data row4 col1\" >0.079310</td>\n",
       "      <td id=\"T_e5584_row4_col2\" class=\"data row4 col2\" >0.091507</td>\n",
       "      <td id=\"T_e5584_row4_col3\" class=\"data row4 col3\" >-0.000643</td>\n",
       "      <td id=\"T_e5584_row4_col4\" class=\"data row4 col4\" >1.000000</td>\n",
       "      <td id=\"T_e5584_row4_col5\" class=\"data row4 col5\" >0.005578</td>\n",
       "      <td id=\"T_e5584_row4_col6\" class=\"data row4 col6\" >0.124328</td>\n",
       "      <td id=\"T_e5584_row4_col7\" class=\"data row4 col7\" >0.060366</td>\n",
       "      <td id=\"T_e5584_row4_col8\" class=\"data row4 col8\" >-0.166694</td>\n",
       "    </tr>\n",
       "    <tr>\n",
       "      <th id=\"T_e5584_level0_row5\" class=\"row_heading level0 row5\" >profits</th>\n",
       "      <td id=\"T_e5584_row5_col0\" class=\"data row5 col0\" >0.021138</td>\n",
       "      <td id=\"T_e5584_row5_col1\" class=\"data row5 col1\" >0.005601</td>\n",
       "      <td id=\"T_e5584_row5_col2\" class=\"data row5 col2\" >-0.005013</td>\n",
       "      <td id=\"T_e5584_row5_col3\" class=\"data row5 col3\" >0.211175</td>\n",
       "      <td id=\"T_e5584_row5_col4\" class=\"data row5 col4\" >0.005578</td>\n",
       "      <td id=\"T_e5584_row5_col5\" class=\"data row5 col5\" >1.000000</td>\n",
       "      <td id=\"T_e5584_row5_col6\" class=\"data row5 col6\" >-0.020897</td>\n",
       "      <td id=\"T_e5584_row5_col7\" class=\"data row5 col7\" >-0.004192</td>\n",
       "      <td id=\"T_e5584_row5_col8\" class=\"data row5 col8\" >0.129403</td>\n",
       "    </tr>\n",
       "    <tr>\n",
       "      <th id=\"T_e5584_level0_row6\" class=\"row_heading level0 row6\" >cate</th>\n",
       "      <td id=\"T_e5584_row6_col0\" class=\"data row6 col0\" >0.011395</td>\n",
       "      <td id=\"T_e5584_row6_col1\" class=\"data row6 col1\" >-0.045897</td>\n",
       "      <td id=\"T_e5584_row6_col2\" class=\"data row6 col2\" >-0.030663</td>\n",
       "      <td id=\"T_e5584_row6_col3\" class=\"data row6 col3\" >-0.023765</td>\n",
       "      <td id=\"T_e5584_row6_col4\" class=\"data row6 col4\" >0.124328</td>\n",
       "      <td id=\"T_e5584_row6_col5\" class=\"data row6 col5\" >-0.020897</td>\n",
       "      <td id=\"T_e5584_row6_col6\" class=\"data row6 col6\" >1.000000</td>\n",
       "      <td id=\"T_e5584_row6_col7\" class=\"data row6 col7\" >0.063056</td>\n",
       "      <td id=\"T_e5584_row6_col8\" class=\"data row6 col8\" >-0.091012</td>\n",
       "    </tr>\n",
       "    <tr>\n",
       "      <th id=\"T_e5584_level0_row7\" class=\"row_heading level0 row7\" >contrating</th>\n",
       "      <td id=\"T_e5584_row7_col0\" class=\"data row7 col0\" >-0.006209</td>\n",
       "      <td id=\"T_e5584_row7_col1\" class=\"data row7 col1\" >0.031900</td>\n",
       "      <td id=\"T_e5584_row7_col2\" class=\"data row7 col2\" >0.022311</td>\n",
       "      <td id=\"T_e5584_row7_col3\" class=\"data row7 col3\" >-0.013124</td>\n",
       "      <td id=\"T_e5584_row7_col4\" class=\"data row7 col4\" >0.060366</td>\n",
       "      <td id=\"T_e5584_row7_col5\" class=\"data row7 col5\" >-0.004192</td>\n",
       "      <td id=\"T_e5584_row7_col6\" class=\"data row7 col6\" >0.063056</td>\n",
       "      <td id=\"T_e5584_row7_col7\" class=\"data row7 col7\" >1.000000</td>\n",
       "      <td id=\"T_e5584_row7_col8\" class=\"data row7 col8\" >-0.044542</td>\n",
       "    </tr>\n",
       "    <tr>\n",
       "      <th id=\"T_e5584_level0_row8\" class=\"row_heading level0 row8\" >PFtype</th>\n",
       "      <td id=\"T_e5584_row8_col0\" class=\"data row8 col0\" >0.048708</td>\n",
       "      <td id=\"T_e5584_row8_col1\" class=\"data row8 col1\" >-0.043130</td>\n",
       "      <td id=\"T_e5584_row8_col2\" class=\"data row8 col2\" >-0.051870</td>\n",
       "      <td id=\"T_e5584_row8_col3\" class=\"data row8 col3\" >0.218389</td>\n",
       "      <td id=\"T_e5584_row8_col4\" class=\"data row8 col4\" >-0.166694</td>\n",
       "      <td id=\"T_e5584_row8_col5\" class=\"data row8 col5\" >0.129403</td>\n",
       "      <td id=\"T_e5584_row8_col6\" class=\"data row8 col6\" >-0.091012</td>\n",
       "      <td id=\"T_e5584_row8_col7\" class=\"data row8 col7\" >-0.044542</td>\n",
       "      <td id=\"T_e5584_row8_col8\" class=\"data row8 col8\" >1.000000</td>\n",
       "    </tr>\n",
       "  </tbody>\n",
       "</table>\n"
      ],
      "text/plain": [
       "<pandas.io.formats.style.Styler at 0x29e53014550>"
      ]
     },
     "execution_count": 57,
     "metadata": {},
     "output_type": "execute_result"
    }
   ],
   "source": [
    "df.corr().style.background_gradient(cmap=\"Blues\")"
   ]
  },
  {
   "cell_type": "markdown",
   "id": "54ee5e10",
   "metadata": {},
   "source": [
    "# Modeling"
   ]
  },
  {
   "cell_type": "markdown",
   "id": "ad6f0a76",
   "metadata": {},
   "source": [
    "# Prepare data for training"
   ]
  },
  {
   "cell_type": "code",
   "execution_count": 58,
   "id": "05a1b6b6",
   "metadata": {},
   "outputs": [
    {
     "data": {
      "text/html": [
       "<div>\n",
       "<style scoped>\n",
       "    .dataframe tbody tr th:only-of-type {\n",
       "        vertical-align: middle;\n",
       "    }\n",
       "\n",
       "    .dataframe tbody tr th {\n",
       "        vertical-align: top;\n",
       "    }\n",
       "\n",
       "    .dataframe thead th {\n",
       "        text-align: right;\n",
       "    }\n",
       "</style>\n",
       "<table border=\"1\" class=\"dataframe\">\n",
       "  <thead>\n",
       "    <tr style=\"text-align: right;\">\n",
       "      <th></th>\n",
       "      <th>Category</th>\n",
       "      <th>Rating</th>\n",
       "      <th>Reviews</th>\n",
       "      <th>Installs</th>\n",
       "      <th>Type</th>\n",
       "      <th>Price</th>\n",
       "      <th>ContentRating</th>\n",
       "      <th>Genres</th>\n",
       "      <th>Annualupdate</th>\n",
       "      <th>profits</th>\n",
       "      <th>cate</th>\n",
       "      <th>contrating</th>\n",
       "      <th>PFtype</th>\n",
       "    </tr>\n",
       "  </thead>\n",
       "  <tbody>\n",
       "    <tr>\n",
       "      <th>0</th>\n",
       "      <td>ART_AND_DESIGN</td>\n",
       "      <td>4.0</td>\n",
       "      <td>159</td>\n",
       "      <td>10000</td>\n",
       "      <td>Free</td>\n",
       "      <td>0</td>\n",
       "      <td>Everyone</td>\n",
       "      <td>Art &amp; Design</td>\n",
       "      <td>2018</td>\n",
       "      <td>0</td>\n",
       "      <td>28</td>\n",
       "      <td>1</td>\n",
       "      <td>0</td>\n",
       "    </tr>\n",
       "    <tr>\n",
       "      <th>1</th>\n",
       "      <td>ART_AND_DESIGN</td>\n",
       "      <td>4.0</td>\n",
       "      <td>967</td>\n",
       "      <td>500000</td>\n",
       "      <td>Free</td>\n",
       "      <td>0</td>\n",
       "      <td>Everyone</td>\n",
       "      <td>Art &amp; Design;Pretend Play</td>\n",
       "      <td>2018</td>\n",
       "      <td>0</td>\n",
       "      <td>28</td>\n",
       "      <td>1</td>\n",
       "      <td>0</td>\n",
       "    </tr>\n",
       "    <tr>\n",
       "      <th>2</th>\n",
       "      <td>ART_AND_DESIGN</td>\n",
       "      <td>5.0</td>\n",
       "      <td>87510</td>\n",
       "      <td>5000000</td>\n",
       "      <td>Free</td>\n",
       "      <td>0</td>\n",
       "      <td>Everyone</td>\n",
       "      <td>Art &amp; Design</td>\n",
       "      <td>2018</td>\n",
       "      <td>0</td>\n",
       "      <td>28</td>\n",
       "      <td>1</td>\n",
       "      <td>0</td>\n",
       "    </tr>\n",
       "    <tr>\n",
       "      <th>3</th>\n",
       "      <td>ART_AND_DESIGN</td>\n",
       "      <td>5.0</td>\n",
       "      <td>215644</td>\n",
       "      <td>50000000</td>\n",
       "      <td>Free</td>\n",
       "      <td>0</td>\n",
       "      <td>Teen</td>\n",
       "      <td>Art &amp; Design</td>\n",
       "      <td>2018</td>\n",
       "      <td>0</td>\n",
       "      <td>28</td>\n",
       "      <td>2</td>\n",
       "      <td>0</td>\n",
       "    </tr>\n",
       "    <tr>\n",
       "      <th>4</th>\n",
       "      <td>ART_AND_DESIGN</td>\n",
       "      <td>4.0</td>\n",
       "      <td>967</td>\n",
       "      <td>100000</td>\n",
       "      <td>Free</td>\n",
       "      <td>0</td>\n",
       "      <td>Everyone</td>\n",
       "      <td>Art &amp; Design;Creativity</td>\n",
       "      <td>2018</td>\n",
       "      <td>0</td>\n",
       "      <td>28</td>\n",
       "      <td>1</td>\n",
       "      <td>0</td>\n",
       "    </tr>\n",
       "  </tbody>\n",
       "</table>\n",
       "</div>"
      ],
      "text/plain": [
       "         Category  Rating  Reviews  Installs  Type  Price ContentRating  \\\n",
       "0  ART_AND_DESIGN     4.0      159     10000  Free      0      Everyone   \n",
       "1  ART_AND_DESIGN     4.0      967    500000  Free      0      Everyone   \n",
       "2  ART_AND_DESIGN     5.0    87510   5000000  Free      0      Everyone   \n",
       "3  ART_AND_DESIGN     5.0   215644  50000000  Free      0          Teen   \n",
       "4  ART_AND_DESIGN     4.0      967    100000  Free      0      Everyone   \n",
       "\n",
       "                      Genres  Annualupdate  profits  cate  contrating  PFtype  \n",
       "0               Art & Design          2018        0    28           1       0  \n",
       "1  Art & Design;Pretend Play          2018        0    28           1       0  \n",
       "2               Art & Design          2018        0    28           1       0  \n",
       "3               Art & Design          2018        0    28           2       0  \n",
       "4    Art & Design;Creativity          2018        0    28           1       0  "
      ]
     },
     "execution_count": 58,
     "metadata": {},
     "output_type": "execute_result"
    }
   ],
   "source": [
    "df.head()"
   ]
  },
  {
   "cell_type": "markdown",
   "id": "d5ecf97c",
   "metadata": {},
   "source": [
    "## convert Category,ContentRating,Genres to numerical value"
   ]
  },
  {
   "cell_type": "code",
   "execution_count": 59,
   "id": "2ae02205",
   "metadata": {},
   "outputs": [
    {
     "data": {
      "text/html": [
       "<div>\n",
       "<style scoped>\n",
       "    .dataframe tbody tr th:only-of-type {\n",
       "        vertical-align: middle;\n",
       "    }\n",
       "\n",
       "    .dataframe tbody tr th {\n",
       "        vertical-align: top;\n",
       "    }\n",
       "\n",
       "    .dataframe thead th {\n",
       "        text-align: right;\n",
       "    }\n",
       "</style>\n",
       "<table border=\"1\" class=\"dataframe\">\n",
       "  <thead>\n",
       "    <tr style=\"text-align: right;\">\n",
       "      <th></th>\n",
       "      <th>Category</th>\n",
       "      <th>Rating</th>\n",
       "      <th>Reviews</th>\n",
       "      <th>Installs</th>\n",
       "      <th>Type</th>\n",
       "      <th>Price</th>\n",
       "      <th>ContentRating</th>\n",
       "      <th>Genres</th>\n",
       "      <th>Annualupdate</th>\n",
       "      <th>profits</th>\n",
       "      <th>cate</th>\n",
       "      <th>contrating</th>\n",
       "      <th>PFtype</th>\n",
       "    </tr>\n",
       "  </thead>\n",
       "  <tbody>\n",
       "    <tr>\n",
       "      <th>0</th>\n",
       "      <td>31</td>\n",
       "      <td>4.0</td>\n",
       "      <td>159</td>\n",
       "      <td>10000</td>\n",
       "      <td>0</td>\n",
       "      <td>0</td>\n",
       "      <td>2</td>\n",
       "      <td>27</td>\n",
       "      <td>2018</td>\n",
       "      <td>0</td>\n",
       "      <td>28</td>\n",
       "      <td>1</td>\n",
       "      <td>0</td>\n",
       "    </tr>\n",
       "    <tr>\n",
       "      <th>1</th>\n",
       "      <td>31</td>\n",
       "      <td>4.0</td>\n",
       "      <td>967</td>\n",
       "      <td>500000</td>\n",
       "      <td>0</td>\n",
       "      <td>0</td>\n",
       "      <td>2</td>\n",
       "      <td>93</td>\n",
       "      <td>2018</td>\n",
       "      <td>0</td>\n",
       "      <td>28</td>\n",
       "      <td>1</td>\n",
       "      <td>0</td>\n",
       "    </tr>\n",
       "    <tr>\n",
       "      <th>2</th>\n",
       "      <td>31</td>\n",
       "      <td>5.0</td>\n",
       "      <td>87510</td>\n",
       "      <td>5000000</td>\n",
       "      <td>0</td>\n",
       "      <td>0</td>\n",
       "      <td>2</td>\n",
       "      <td>27</td>\n",
       "      <td>2018</td>\n",
       "      <td>0</td>\n",
       "      <td>28</td>\n",
       "      <td>1</td>\n",
       "      <td>0</td>\n",
       "    </tr>\n",
       "    <tr>\n",
       "      <th>3</th>\n",
       "      <td>31</td>\n",
       "      <td>5.0</td>\n",
       "      <td>215644</td>\n",
       "      <td>50000000</td>\n",
       "      <td>0</td>\n",
       "      <td>0</td>\n",
       "      <td>4</td>\n",
       "      <td>27</td>\n",
       "      <td>2018</td>\n",
       "      <td>0</td>\n",
       "      <td>28</td>\n",
       "      <td>2</td>\n",
       "      <td>0</td>\n",
       "    </tr>\n",
       "    <tr>\n",
       "      <th>4</th>\n",
       "      <td>31</td>\n",
       "      <td>4.0</td>\n",
       "      <td>967</td>\n",
       "      <td>100000</td>\n",
       "      <td>0</td>\n",
       "      <td>0</td>\n",
       "      <td>2</td>\n",
       "      <td>101</td>\n",
       "      <td>2018</td>\n",
       "      <td>0</td>\n",
       "      <td>28</td>\n",
       "      <td>1</td>\n",
       "      <td>0</td>\n",
       "    </tr>\n",
       "  </tbody>\n",
       "</table>\n",
       "</div>"
      ],
      "text/plain": [
       "   Category  Rating  Reviews  Installs  Type  Price  ContentRating  Genres  \\\n",
       "0        31     4.0      159     10000     0      0              2      27   \n",
       "1        31     4.0      967    500000     0      0              2      93   \n",
       "2        31     5.0    87510   5000000     0      0              2      27   \n",
       "3        31     5.0   215644  50000000     0      0              4      27   \n",
       "4        31     4.0      967    100000     0      0              2     101   \n",
       "\n",
       "   Annualupdate  profits  cate  contrating  PFtype  \n",
       "0          2018        0    28           1       0  \n",
       "1          2018        0    28           1       0  \n",
       "2          2018        0    28           1       0  \n",
       "3          2018        0    28           2       0  \n",
       "4          2018        0    28           1       0  "
      ]
     },
     "execution_count": 59,
     "metadata": {},
     "output_type": "execute_result"
    }
   ],
   "source": [
    "def convertCategory(x):\n",
    "    category = set( df['Category'] )\n",
    "    return list(category).index(x)\n",
    "\n",
    "def convertContentRating(x):\n",
    "    ContentRating = set( df['ContentRating'] )\n",
    "    return list(ContentRating).index(x)\n",
    "\n",
    "def convertGenres(x):\n",
    "    Genres = set( df['Genres'] )\n",
    "    return list(Genres).index(x)\n",
    "\n",
    "def convertType(x):\n",
    "    Type = set( df['Type'] )\n",
    "    return list(Type).index(x)\n",
    "\n",
    "new_df = df.copy()\n",
    "new_df['Category'] = df['Category'].apply(convertCategory)\n",
    "new_df['ContentRating'] = df['ContentRating'].apply(convertContentRating)\n",
    "new_df['Genres'] = df['Genres'].apply(convertGenres)\n",
    "new_df['Type'] = df['Type'].apply(convertType)\n",
    "new_df.head()"
   ]
  },
  {
   "cell_type": "markdown",
   "id": "5e52c92a",
   "metadata": {},
   "source": [
    "# Split data into train and test, train 80% and test 20%"
   ]
  },
  {
   "cell_type": "code",
   "execution_count": 60,
   "id": "134cff04",
   "metadata": {},
   "outputs": [],
   "source": [
    "from sklearn.model_selection import train_test_split\n",
    "X = new_df.loc[:,['Category', 'Rating', 'Reviews','Price','Installs','ContentRating','Genres']]\n",
    "y = new_df.loc[:,'Type']\n",
    "X_train, X_test, y_train, y_test = train_test_split(X, y, test_size=0.2, random_state=42)"
   ]
  },
  {
   "cell_type": "code",
   "execution_count": 61,
   "id": "3451c937",
   "metadata": {},
   "outputs": [],
   "source": [
    "# feature scaling"
   ]
  },
  {
   "cell_type": "code",
   "execution_count": 62,
   "id": "33d6897f",
   "metadata": {},
   "outputs": [],
   "source": [
    "from sklearn.preprocessing import StandardScaler\n",
    "sc = StandardScaler()\n",
    "X_train_sc = sc.fit_transform(X_train)\n",
    "X_test_sc = sc.transform(X_test)"
   ]
  },
  {
   "cell_type": "code",
   "execution_count": 63,
   "id": "107b59bf",
   "metadata": {},
   "outputs": [
    {
     "data": {
      "text/plain": [
       "array([[-1.78250215,  1.22403877, -0.15879708, ..., -0.19079678,\n",
       "        -0.17253578,  0.7818353 ],\n",
       "       [ 1.04655039,  1.22403877,  1.89996874, ...,  0.90177124,\n",
       "        -0.17253578,  1.28116403],\n",
       "       [ 1.04655039,  1.22403877, -0.15607896, ..., -0.18544266,\n",
       "        -0.17253578,  0.2562261 ],\n",
       "       ...,\n",
       "       [-1.67772243,  1.22403877, -0.14827069, ..., -0.17997927,\n",
       "        -0.17253578,  1.12348127],\n",
       "       [-0.31558602, -0.32833092, -0.158679  , ..., -0.18981337,\n",
       "        -0.17253578,  1.22860311],\n",
       "       [-0.52514547, -0.32833092, -0.15297816, ..., -0.18981337,\n",
       "         2.38077676, -0.26938309]])"
      ]
     },
     "execution_count": 63,
     "metadata": {},
     "output_type": "execute_result"
    }
   ],
   "source": [
    "X_test_sc"
   ]
  },
  {
   "cell_type": "code",
   "execution_count": 64,
   "id": "5e01428b",
   "metadata": {},
   "outputs": [
    {
     "data": {
      "text/plain": [
       "array([[ 0.10353288, -0.32833092, -0.15358622, ..., -0.08163832,\n",
       "        -0.17253578,  1.36000541],\n",
       "       [ 1.04655039, -0.32833092, -0.09105817, ..., -0.08163832,\n",
       "        -0.17253578,  1.12348127],\n",
       "       [ 1.46566928, -0.32833092,  0.90402107, ...,  0.90177124,\n",
       "        -0.17253578,  1.20232265],\n",
       "       ...,\n",
       "       [-0.52514547,  1.22403877, -0.15869797, ..., -0.19079678,\n",
       "         2.38077676, -0.34822447],\n",
       "       [-1.78250215, -0.32833092, -0.07685856, ..., -0.08163832,\n",
       "        -0.17253578,  0.7818353 ],\n",
       "       [-1.25860353, -0.32833092, -0.11343828, ..., -0.08163832,\n",
       "        -0.17253578, -0.82127274]])"
      ]
     },
     "execution_count": 64,
     "metadata": {},
     "output_type": "execute_result"
    }
   ],
   "source": [
    "X_train_sc"
   ]
  },
  {
   "cell_type": "markdown",
   "id": "44ff0559",
   "metadata": {},
   "source": [
    " ### KNN:KNeighborsClassifier"
   ]
  },
  {
   "cell_type": "code",
   "execution_count": 65,
   "id": "04c38c75",
   "metadata": {},
   "outputs": [
    {
     "data": {
      "text/plain": [
       "KNeighborsClassifier(n_neighbors=6)"
      ]
     },
     "execution_count": 65,
     "metadata": {},
     "output_type": "execute_result"
    }
   ],
   "source": [
    "from sklearn.neighbors import KNeighborsClassifier\n",
    "knn = KNeighborsClassifier(n_neighbors = 6)\n",
    "knn.fit(X_train_sc,y_train)"
   ]
  },
  {
   "cell_type": "code",
   "execution_count": 66,
   "id": "2cdc61de",
   "metadata": {},
   "outputs": [],
   "source": [
    "y_pred_knn = knn.predict(X_test_sc)"
   ]
  },
  {
   "cell_type": "code",
   "execution_count": 67,
   "id": "747df963",
   "metadata": {},
   "outputs": [
    {
     "data": {
      "text/plain": [
       "array([0, 0, 0, ..., 0, 0, 0], dtype=int64)"
      ]
     },
     "execution_count": 67,
     "metadata": {},
     "output_type": "execute_result"
    }
   ],
   "source": [
    "y_pred_knn"
   ]
  },
  {
   "cell_type": "code",
   "execution_count": 68,
   "id": "350e047e",
   "metadata": {},
   "outputs": [
    {
     "data": {
      "text/plain": [
       "7137    0\n",
       "2216    0\n",
       "2107    0\n",
       "8250    0\n",
       "900     0\n",
       "       ..\n",
       "2286    1\n",
       "8532    0\n",
       "789     0\n",
       "3587    0\n",
       "4612    1\n",
       "Name: Type, Length: 1765, dtype: int64"
      ]
     },
     "execution_count": 68,
     "metadata": {},
     "output_type": "execute_result"
    }
   ],
   "source": [
    "y_test"
   ]
  },
  {
   "cell_type": "code",
   "execution_count": 69,
   "id": "f2c9eeaf",
   "metadata": {},
   "outputs": [
    {
     "name": "stdout",
     "output_type": "stream",
     "text": [
      "              precision    recall  f1-score   support\n",
      "\n",
      "           0       1.00      0.97      0.99      1703\n",
      "           1       0.56      1.00      0.72        62\n",
      "\n",
      "    accuracy                           0.97      1765\n",
      "   macro avg       0.78      0.99      0.85      1765\n",
      "weighted avg       0.98      0.97      0.98      1765\n",
      "\n"
     ]
    }
   ],
   "source": [
    "from sklearn.metrics import classification_report\n",
    "print(classification_report(y_pred_knn,y_test))"
   ]
  },
  {
   "cell_type": "code",
   "execution_count": 70,
   "id": "315a6390",
   "metadata": {},
   "outputs": [],
   "source": [
    "from sklearn.metrics import classification_report,confusion_matrix"
   ]
  },
  {
   "cell_type": "code",
   "execution_count": 71,
   "id": "6c2c8aa7",
   "metadata": {},
   "outputs": [
    {
     "name": "stdout",
     "output_type": "stream",
     "text": [
      "[[1654    0]\n",
      " [  49   62]]\n"
     ]
    }
   ],
   "source": [
    "print(confusion_matrix(y_test,y_pred_knn))"
   ]
  },
  {
   "cell_type": "code",
   "execution_count": 72,
   "id": "57c30e61",
   "metadata": {},
   "outputs": [],
   "source": [
    "from sklearn.metrics import f1_score"
   ]
  },
  {
   "cell_type": "code",
   "execution_count": 73,
   "id": "4b24ad43",
   "metadata": {},
   "outputs": [
    {
     "name": "stdout",
     "output_type": "stream",
     "text": [
      "[0.98540363 0.71676301]\n"
     ]
    }
   ],
   "source": [
    "print(f1_score(y_test,y_pred_knn,average=None))"
   ]
  },
  {
   "cell_type": "code",
   "execution_count": 74,
   "id": "512c69a7",
   "metadata": {},
   "outputs": [
    {
     "data": {
      "text/plain": [
       "Free    8214\n",
       "Paid     610\n",
       "Name: Type, dtype: int64"
      ]
     },
     "execution_count": 74,
     "metadata": {},
     "output_type": "execute_result"
    }
   ],
   "source": [
    "df.Type.value_counts()"
   ]
  },
  {
   "cell_type": "markdown",
   "id": "2df7a73a",
   "metadata": {},
   "source": [
    "# LogisticRegression"
   ]
  },
  {
   "cell_type": "code",
   "execution_count": 75,
   "id": "6b328397",
   "metadata": {},
   "outputs": [
    {
     "data": {
      "text/plain": [
       "LogisticRegression()"
      ]
     },
     "execution_count": 75,
     "metadata": {},
     "output_type": "execute_result"
    }
   ],
   "source": [
    "from sklearn.linear_model import LogisticRegression\n",
    "\n",
    "lr = LogisticRegression()\n",
    "lr.fit(X_train_sc,y_train)"
   ]
  },
  {
   "cell_type": "code",
   "execution_count": 76,
   "id": "c578abbd",
   "metadata": {},
   "outputs": [],
   "source": [
    "y_pred = lr.predict(X_test_sc)"
   ]
  },
  {
   "cell_type": "code",
   "execution_count": 77,
   "id": "638d708e",
   "metadata": {},
   "outputs": [
    {
     "data": {
      "text/plain": [
       "array([0, 0, 0, ..., 0, 0, 1], dtype=int64)"
      ]
     },
     "execution_count": 77,
     "metadata": {},
     "output_type": "execute_result"
    }
   ],
   "source": [
    "y_pred"
   ]
  },
  {
   "cell_type": "code",
   "execution_count": 78,
   "id": "7cfe56c5",
   "metadata": {},
   "outputs": [
    {
     "data": {
      "text/plain": [
       "7137    0\n",
       "2216    0\n",
       "2107    0\n",
       "8250    0\n",
       "900     0\n",
       "       ..\n",
       "2286    1\n",
       "8532    0\n",
       "789     0\n",
       "3587    0\n",
       "4612    1\n",
       "Name: Type, Length: 1765, dtype: int64"
      ]
     },
     "execution_count": 78,
     "metadata": {},
     "output_type": "execute_result"
    }
   ],
   "source": [
    "y_test"
   ]
  },
  {
   "cell_type": "code",
   "execution_count": 79,
   "id": "21e7e0f0",
   "metadata": {},
   "outputs": [
    {
     "name": "stdout",
     "output_type": "stream",
     "text": [
      "              precision    recall  f1-score   support\n",
      "\n",
      "           0       1.00      0.98      0.99      1696\n",
      "           1       0.62      1.00      0.77        69\n",
      "\n",
      "    accuracy                           0.98      1765\n",
      "   macro avg       0.81      0.99      0.88      1765\n",
      "weighted avg       0.99      0.98      0.98      1765\n",
      "\n"
     ]
    }
   ],
   "source": [
    "from sklearn.metrics import classification_report\n",
    "\n",
    "print(classification_report(y_pred,y_test))"
   ]
  },
  {
   "cell_type": "markdown",
   "id": "d5f5ccde",
   "metadata": {},
   "source": [
    "# Appling Linear regression for the data"
   ]
  },
  {
   "cell_type": "code",
   "execution_count": 80,
   "id": "58d187ea",
   "metadata": {},
   "outputs": [],
   "source": [
    "from sklearn.model_selection import train_test_split\n",
    "X1 = new_df.loc[:,['Category', 'Rating', 'Reviews','Type','Installs','ContentRating','Genres']]\n",
    "y1 = new_df.loc[:,'Price']\n",
    "X_train_r, X_test_r, y_train_r, y_test_r = train_test_split(X1, y1, test_size=0.2, random_state=42)"
   ]
  },
  {
   "cell_type": "code",
   "execution_count": 81,
   "id": "56dce13d",
   "metadata": {},
   "outputs": [
    {
     "data": {
      "text/plain": [
       "LinearRegression()"
      ]
     },
     "execution_count": 81,
     "metadata": {},
     "output_type": "execute_result"
    }
   ],
   "source": [
    "from sklearn import linear_model\n",
    "reg = linear_model.LinearRegression()\n",
    "reg.fit(X_train_r,y_train_r)"
   ]
  },
  {
   "cell_type": "code",
   "execution_count": 82,
   "id": "fb6bf2f3",
   "metadata": {},
   "outputs": [
    {
     "name": "stdout",
     "output_type": "stream",
     "text": [
      "accuracy score for train is 17.66184838956362\n"
     ]
    }
   ],
   "source": [
    "from sklearn.metrics import mean_squared_error\n",
    "y_pred_r = reg.predict(X_train_r)\n",
    "score = mean_squared_error(y_train_r, y_pred_r, squared=False)\n",
    "print(f'accuracy score for train is {score}')"
   ]
  },
  {
   "cell_type": "code",
   "execution_count": 83,
   "id": "a66e357c",
   "metadata": {},
   "outputs": [
    {
     "name": "stdout",
     "output_type": "stream",
     "text": [
      "accuracy score for test is 27.17010113206599\n"
     ]
    }
   ],
   "source": [
    "from sklearn.metrics import mean_squared_error\n",
    "y_pred_r = reg.predict(X_test)\n",
    "score = mean_squared_error(y_test_r, y_pred_r, squared=False)\n",
    "print(f'accuracy score for test is {score}')"
   ]
  },
  {
   "cell_type": "markdown",
   "id": "71e77b0d",
   "metadata": {},
   "source": [
    "# Appling KNN for the data"
   ]
  },
  {
   "cell_type": "code",
   "execution_count": 84,
   "id": "0286a0b5",
   "metadata": {},
   "outputs": [
    {
     "data": {
      "text/plain": [
       "KNeighborsRegressor()"
      ]
     },
     "execution_count": 84,
     "metadata": {},
     "output_type": "execute_result"
    }
   ],
   "source": [
    "from sklearn.neighbors import KNeighborsRegressor\n",
    "neigh = KNeighborsRegressor()\n",
    "neigh.fit(X_train_r,y_train_r)"
   ]
  },
  {
   "cell_type": "code",
   "execution_count": 85,
   "id": "4f1876e2",
   "metadata": {},
   "outputs": [
    {
     "name": "stdout",
     "output_type": "stream",
     "text": [
      "RMSE score for train is 16.02763709569281\n"
     ]
    }
   ],
   "source": [
    "from sklearn.metrics import mean_squared_error\n",
    "y_pred_r = neigh.predict(X_train_r)\n",
    "score = mean_squared_error(y_train_r, y_pred_r, squared=False)\n",
    "print(f'RMSE score for train is {score}')"
   ]
  },
  {
   "cell_type": "code",
   "execution_count": 86,
   "id": "59bcdd7b",
   "metadata": {},
   "outputs": [
    {
     "name": "stdout",
     "output_type": "stream",
     "text": [
      "RMSE score for train is 7.740538956867034\n"
     ]
    }
   ],
   "source": [
    "from sklearn.metrics import mean_squared_error\n",
    "y_pred_r= neigh.predict(X_test_r)\n",
    "score = mean_squared_error(y_test_r, y_pred_r, squared=False)\n",
    "print(f'RMSE score for train is {score}')"
   ]
  },
  {
   "cell_type": "code",
   "execution_count": null,
   "id": "ed3517a7",
   "metadata": {},
   "outputs": [],
   "source": []
  }
 ],
 "metadata": {
  "kernelspec": {
   "display_name": "Python 3 (ipykernel)",
   "language": "python",
   "name": "python3"
  },
  "language_info": {
   "codemirror_mode": {
    "name": "ipython",
    "version": 3
   },
   "file_extension": ".py",
   "mimetype": "text/x-python",
   "name": "python",
   "nbconvert_exporter": "python",
   "pygments_lexer": "ipython3",
   "version": "3.9.7"
  }
 },
 "nbformat": 4,
 "nbformat_minor": 5
}
